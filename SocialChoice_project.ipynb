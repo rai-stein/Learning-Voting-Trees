{
  "cells": [
    {
      "cell_type": "markdown",
      "metadata": {
        "id": "view-in-github",
        "colab_type": "text"
      },
      "source": [
        "<a href=\"https://colab.research.google.com/github/rai-stein/Learning-Voting-Trees/blob/main/SocialChoice_project.ipynb\" target=\"_parent\"><img src=\"https://colab.research.google.com/assets/colab-badge.svg\" alt=\"Open In Colab\"/></a>"
      ]
    },
    {
      "cell_type": "markdown",
      "metadata": {
        "id": "o5ziJ28TGnwg"
      },
      "source": [
        "# Social Choice - Implementation part\n",
        "Raissa Chut Steinberg & Aviv Kapitulnik\n",
        "\n",
        "Following our discussion on the paper \"Learning Voting Trees\", which discussed thoroughly the complexity of learning concise voting trees given tournaments and their winners.\n",
        "\n",
        "What we wish to acomplish in this part is, opposed to the empirical work shown on the paper and learning an almost-perfect voting tree, we will be using a greedy algorithm (explained below) that will assist us in creating a good approximation to a concise voting tree of relevant chosen voting rules"
      ]
    },
    {
      "cell_type": "markdown",
      "metadata": {
        "id": "x_ZYtX8HINdN"
      },
      "source": [
        "Importing the relevant libraries:\n"
      ]
    },
    {
      "cell_type": "code",
      "execution_count": null,
      "metadata": {
        "id": "FwxGP1beGg3N"
      },
      "outputs": [],
      "source": [
        "import numpy as np\n",
        "import pandas as pd\n",
        "import networkx as nx\n",
        "import matplotlib.pyplot as plt\n",
        "import matplotlib.image as mpimg\n",
        "import random\n",
        "import matplotlib.cm as cm\n",
        "import itertools\n",
        "import copy\n",
        "import time\n",
        "from itertools import permutations\n",
        "from itertools import combinations\n",
        "from tqdm import tqdm"
      ]
    },
    {
      "cell_type": "markdown",
      "metadata": {
        "id": "RKAMZVdFK74P"
      },
      "source": [
        "The following functions will be useful to us when defining tournaments and using known voting rules:"
      ]
    },
    {
      "cell_type": "code",
      "execution_count": null,
      "metadata": {
        "id": "kIi1mLkzxAxk"
      },
      "outputs": [],
      "source": [
        "def edges_in_cycles(graph):\n",
        "    \"\"\"\n",
        "    : param: graph - the graph we want to check (the tournament)\n",
        "    : return: edges in cycles in the graph\n",
        "    \"\"\"\n",
        "    cycles = list(nx.simple_cycles(graph))\n",
        "    edges_in_cycles = set()\n",
        "    for cycle in cycles:\n",
        "        for i in range(len(cycle)):\n",
        "            u,v = cycle[i],cycle[(i+1)%len(cycle)]\n",
        "            edges_in_cycles.add((u,v))\n",
        "    return edges_in_cycles\n",
        "\n",
        "def break_cycle_brute(graph):\n",
        "    \"\"\"\n",
        "    : param: graph - the graph we want to make acyclical\n",
        "    : return: the minimal weight we have to \"change\" to make the graph acyclical\n",
        "    \"\"\"\n",
        "    rel_edges = edges_in_cycles(graph)\n",
        "\n",
        "    if len(rel_edges) == 0 : ## no cycles\n",
        "        return 0\n",
        "\n",
        "    rel_weighted = [(u,v,graph[u][v]['weight']) for u,v in rel_edges]\n",
        "\n",
        "    min_weight = float('inf')\n",
        "\n",
        "    for r in range(1,len(rel_weighted)+1):\n",
        "        for subset in combinations(rel_weighted, r):\n",
        "            graph_2play2 = graph.copy()\n",
        "            weight_sum = 0\n",
        "\n",
        "            for u,v,weight in subset:\n",
        "                graph_2play2.remove_edge(u, v)\n",
        "                weight_sum += weight\n",
        "\n",
        "            try:\n",
        "                nx.find_cycle(graph_2play2)\n",
        "            except:\n",
        "                if weight_sum < min_weight:\n",
        "                    min_weight = weight_sum\n",
        "    return min_weight\n",
        "\n",
        "def make_graph(entries, candidates, print_it):\n",
        "    \"\"\"\n",
        "    :param entries: the rankings given by voters\n",
        "    :param candidates: the alternatives\n",
        "    :param print_it: whether we want to prin the tournament graph or not\n",
        "    :return: the graph that defines the tournament\n",
        "    Edges from winner to loser\n",
        "    ## Used to help define the tournament ##\n",
        "    \"\"\"\n",
        "\n",
        "    prefs = entries\n",
        "    names = list(candidates)\n",
        "\n",
        "    graph = nx.DiGraph()\n",
        "    graph.add_nodes_from(names)\n",
        "\n",
        "    for a in graph.nodes:\n",
        "        for b in graph.nodes:\n",
        "            if names.index(a) < names.index(b):\n",
        "                w, l, wei = winner_one_on_one(entries, a, b)\n",
        "                graph.add_weighted_edges_from([(w, l, wei)])\n",
        "\n",
        "    # print it if required :)\n",
        "    if print_it:\n",
        "      pos = nx.spring_layout(graph, k=100)\n",
        "      nx.draw(graph, pos, with_labels=True, node_color='lightpink', edge_color='gray', node_size=800, font_size=15)\n",
        "      edge_labels = nx.get_edge_attributes(graph, 'weight')\n",
        "      nx.draw_networkx_edge_labels(graph, pos, edge_labels=edge_labels)\n",
        "      plt.show()\n",
        "\n",
        "    return graph\n",
        "\n",
        "def winner_one_on_one(entries, a, b):\n",
        "    \"\"\"\n",
        "    :param entries: the rankings\n",
        "    :param a: alt a\n",
        "    :param b: alt b\n",
        "    :return: who wins in pairwise comparison between a and b!\n",
        "    ## Used to help define the tournament ##\n",
        "    \"\"\"\n",
        "    prefs = entries\n",
        "\n",
        "    vote_a = 0\n",
        "    vote_b = 0\n",
        "\n",
        "    for i in range(len(prefs)):\n",
        "        if list(prefs[i]).index(a) < list(prefs[i]).index(b):\n",
        "            vote_a += 1\n",
        "        else: vote_b += 1\n",
        "\n",
        "    weight = max(vote_a, vote_b)\n",
        "\n",
        "    if vote_a > vote_b:\n",
        "        winner = a\n",
        "        loser = b\n",
        "    elif vote_a < vote_b:\n",
        "        winner = b\n",
        "        loser = a\n",
        "    else:\n",
        "        winner = min(a, b)\n",
        "        loser = max(a, b)\n",
        "\n",
        "    return winner, loser, weight"
      ]
    },
    {
      "cell_type": "markdown",
      "metadata": {
        "id": "s8G3CaYojLzF"
      },
      "source": [
        "The voting rules we wish to use:"
      ]
    },
    {
      "cell_type": "code",
      "execution_count": null,
      "metadata": {
        "id": "sWqOFUVyLYEH"
      },
      "outputs": [],
      "source": [
        "def borda_rule(entries, candidates):\n",
        "    \"\"\"\n",
        "    :param entries: the rankings\n",
        "    :param candidates: the alternatives\n",
        "    :return: the ranking according to the borda rule and its winner\n",
        "    \"\"\"\n",
        "    prefs = entries\n",
        "    names = list(candidates)\n",
        "\n",
        "    hist = [0 for i in range(len(candidates))]\n",
        "\n",
        "    for i in range(len(prefs)):\n",
        "        for j in range(len(names)):\n",
        "            place = names.index(prefs[i][j])\n",
        "            hist[place] += (len(names) - 1 - j)\n",
        "\n",
        "    hist_with_names = []\n",
        "\n",
        "    for i in range(len(hist)):\n",
        "        hist_with_names.append((names[i], hist[i]))\n",
        "\n",
        "    ranking_tuples = sorted(hist_with_names, key=lambda x: (-x[1], x[0]), reverse=False)\n",
        "\n",
        "    ranking = []\n",
        "    for i in range(len(ranking_tuples)):\n",
        "        ranking.append(ranking_tuples[i][0])\n",
        "\n",
        "    winner = ranking[0]\n",
        "\n",
        "    return ranking, winner\n",
        "\n",
        "def plurality_rule(entries, candidates):\n",
        "    \"\"\"\n",
        "    :param entries: the rankings\n",
        "    :param candidates: the alternatives\n",
        "    :return: the ranking according to the plurality rule and its winner\n",
        "    \"\"\"\n",
        "    prefs = entries\n",
        "    names = list(candidates)\n",
        "\n",
        "    hist = [0 for i in range(len(candidates))]\n",
        "\n",
        "    for i in range(len(prefs)):\n",
        "        winner_i = names.index(prefs[i][0])\n",
        "        hist[winner_i] += 1\n",
        "\n",
        "    hist_with_names = []\n",
        "\n",
        "    for i in range(len(hist)):\n",
        "        hist_with_names.append((names[i], hist[i]))\n",
        "\n",
        "    ranking_tuples = sorted(hist_with_names, key=lambda x: (-x[1], x[0]), reverse=False)\n",
        "\n",
        "    ranking = []\n",
        "    for i in range(len(ranking_tuples)):\n",
        "        ranking.append(ranking_tuples[i][0])\n",
        "\n",
        "    winner = ranking[0]\n",
        "\n",
        "    return ranking, winner\n",
        "\n",
        "def copland_rule(entries, candidates):\n",
        "    \"\"\"\n",
        "    :param profile: profile of voters\n",
        "    :param candidates: the candidates of the tournament\n",
        "    :return list: a ranking of all candidates by Copland with lexicographic tie-breaking, from winner to loser\n",
        "    and its winner\n",
        "    \"\"\"\n",
        "\n",
        "    names = list(candidates)\n",
        "\n",
        "    graph = make_graph(entries, candidates, print_it=False)\n",
        "\n",
        "    out_degrees = list(graph.out_degree())\n",
        "\n",
        "    ranking_tuples = sorted(out_degrees, key=lambda x: (-x[1], x[0]), reverse=False)\n",
        "\n",
        "    ranking = []\n",
        "    for i in range(len(ranking_tuples)):\n",
        "        ranking.append(ranking_tuples[i][0])\n",
        "\n",
        "    winner = ranking[0]\n",
        "\n",
        "    return ranking, winner\n",
        "\n",
        "def irv_rule(entries, candidates): # Instant-Runoff Voting (IRV) rule\n",
        "    \"\"\"\n",
        "    :param entries: the rankings given by voters (list of lists)\n",
        "    :param candidates: the set of alternatives\n",
        "    :return: the ranking according to IRV and its winner\n",
        "    \"\"\"\n",
        "\n",
        "    active_candidates = list(candidates)\n",
        "    prefs = copy.deepcopy(entries)\n",
        "\n",
        "    while len(active_candidates) > 1:\n",
        "        first_choice_counts = {cand: 0 for cand in active_candidates}\n",
        "\n",
        "        for pref in prefs:\n",
        "            for cand in pref:\n",
        "                if cand in active_candidates:\n",
        "                    first_choice_counts[cand] += 1\n",
        "                    break\n",
        "\n",
        "        total_votes = sum(first_choice_counts.values())\n",
        "        for cand, count in first_choice_counts.items():\n",
        "            if count > total_votes / 2:\n",
        "                return [cand], cand\n",
        "\n",
        "        min_votes = min(first_choice_counts.values())\n",
        "        to_eliminate = [cand for cand, count in first_choice_counts.items() if count == min_votes]\n",
        "\n",
        "        if len(to_eliminate) == len(active_candidates):\n",
        "            break\n",
        "\n",
        "        for cand in to_eliminate:\n",
        "            active_candidates.remove(cand)\n",
        "\n",
        "        for pref in prefs:\n",
        "            for cand in to_eliminate:\n",
        "                if cand in pref:\n",
        "                    pref = np.delete(pref, np.where(pref == cand))\n",
        "\n",
        "    # The last remaining candidate is the winner\n",
        "    winner = list(active_candidates)[0]\n",
        "    return [winner], winner"
      ]
    },
    {
      "cell_type": "markdown",
      "metadata": {
        "id": "RvQeMWJTITe6"
      },
      "source": [
        "The data set we'll be using is called Jester Data, the data was collected between April 1999 and May 2003 and contains 24,983 continuous ratings from -10 to +10 of 100 different jokes. The source stated that the jokes (alternatives) $\\in$ [5, 7, 8, 13, 15, 16, 17, 18, 19, 20] were ranked by almost all users, so we took all ratings that ranked all of them and used them as our base dataset (Not taking into consideration the rest of the jokes).\n",
        "\n",
        "An example to one of the jokes presented to the voters (joke 1):\n",
        "\n",
        "![(not)funny_joke.jpg](data:image/jpeg;base64,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)\n",
        "\n",
        "Link to source:\n",
        "[Jester data set](https://goldberg.berkeley.edu/jester-data/)\n",
        "\n",
        "Firstly, we'll read the data from the file and make it into rankings we know how to work with. The functions for said actions:"
      ]
    },
    {
      "cell_type": "code",
      "execution_count": null,
      "metadata": {
        "id": "0tcPzy-TJCQy"
      },
      "outputs": [],
      "source": [
        "def extract_data(path):\n",
        "    \"\"\"\n",
        "    :param path:\n",
        "    :return: dataFrame of the rankings - each line is a ranking of a certain voter\n",
        "    \"\"\"\n",
        "    df = pd.read_excel(path, header=None)\n",
        "    df.columns = [\"amount\"] + [i for i in range(100)]\n",
        "    return df\n",
        "\n",
        "def remove_less_than_k(rankings,k):\n",
        "    \"\"\"\n",
        "    :param rankings: matrix of ranking of each participant of the jokes\n",
        "    :param k: number of jokes (alternatives) ranked\n",
        "    :return: the rankings that ranked enough jokes (at least k), hence the ones that are relevant to us\n",
        "    \"\"\"\n",
        "    rankings_to_return = rankings[rankings.iloc[:,0] >= k].drop(\"amount\", axis=1)\n",
        "    return rankings_to_return\n",
        "\n",
        "def votes_to_rankings(rankings):\n",
        "    \"\"\"\n",
        "    :param rankings: the ranking in grades (as given)\n",
        "    :return: translating the grades (given ranking) into a total ordered ranking\n",
        "    The one relevant from our perspective\n",
        "    \"\"\"\n",
        "    sorted_indices_df = pd.DataFrame(np.argsort(-rankings.values, axis=1), index = rankings.index)\n",
        "    return sorted_indices_df\n",
        "\n",
        "def relevant_rankings(rankings, relevant_alts):\n",
        "    \"\"\"\n",
        "    :param rankings: the ranking in grades (as given)\n",
        "    :return: the rankings, over the relevant alternatives given by the source\n",
        "    \"\"\"\n",
        "    relevant_rankings = rankings.iloc[:,relevant_alts]\n",
        "    num_diff_99 = []\n",
        "    for idx, row in relevant_rankings.iterrows():\n",
        "        num_diff_99.append(sum(row != 99))\n",
        "    relevant_rankings.loc[:,\"amount\"] = num_diff_99\n",
        "    return relevant_rankings"
      ]
    },
    {
      "cell_type": "markdown",
      "metadata": {
        "id": "9Ix0You9Jal4"
      },
      "source": [
        "After having all relevant rankings, given the nature of what we're working with and checking we'll want to separate the data into two groups, train and test. This will make it possible for the learning to be \"legal\".\n",
        "\n",
        "Additionaly, each set (train/test) is divided into batches, each batch will be used to define a tournament (pairwise comparisons inside the batch, what would be defined in the tournament graph as we know it). Which will be useful to us in the main part of the implementation."
      ]
    },
    {
      "cell_type": "code",
      "execution_count": null,
      "metadata": {
        "id": "kHwljhhYJKGU"
      },
      "outputs": [],
      "source": [
        "def create_train_batches_test(rankings, train_percentage, batch_size):\n",
        "    \"\"\"\n",
        "    : param: rankings\n",
        "    : param: train_percentage\n",
        "    : param: batch_size - the size of each batch (each tournament will be defined by one batch)\n",
        "    : return: train, batches_train, test, batches_test\n",
        "    \"\"\"\n",
        "    train_size = int(len(rankings)*train_percentage)\n",
        "    train = rankings.sample(n = train_size)\n",
        "    test = rankings.drop(train.index)\n",
        "    num_batches_train = len(rankings) // batch_size\n",
        "    batches_train = np.array_split(train.to_numpy(), num_batches_train)\n",
        "    num_batches_test = len(test) // batch_size\n",
        "    batches_test = np.array_split(test.to_numpy(), num_batches_test)\n",
        "\n",
        "    return train, batches_train, test, batches_test\n",
        "\n",
        "def create_tournaments(ranking,alternatives):\n",
        "    \"\"\"\n",
        "    :param rankings: the full rankings already translated to indexes (and not grades)\n",
        "    :return: for each voting rule, a data set like described on the project\n",
        "    \"\"\"\n",
        "    tour = make_graph(ranking, alternatives, print_it=False)\n",
        "    return tour"
      ]
    },
    {
      "cell_type": "markdown",
      "metadata": {
        "id": "Yydsk6INMCkr"
      },
      "source": [
        "Our implementation relies on building voting trees and learning a certain (given) voting rule trying to make the tree as concise as possible with regards to it. That is, the leaves assignment is as good as it can be with a certain margin of error $\\epsilon$.\n",
        "\n",
        "To be able to talk about the dependancy of how good we can learn a voting rule on the number of leaves of the voting tree we want to learn, the class defined below gives us the tools to generate trees while controling now necessairly the depth of said tree, but the number of leaves we'll dead with."
      ]
    },
    {
      "cell_type": "code",
      "execution_count": null,
      "metadata": {
        "id": "jJ6bvUzdNEea"
      },
      "outputs": [],
      "source": [
        "class Node:\n",
        "    def __init__(self,id):\n",
        "        self.id = id # who the node is\n",
        "        self.value = -1 # who the node represents (alternative)\n",
        "        self.left = None\n",
        "        self.right = None\n",
        "\n",
        "    def change_value(self,value): # changing who the node represents\n",
        "        self.value = value\n",
        "\n",
        "    def deepcopy(self):\n",
        "        new_node = Node(self.id)\n",
        "        new_node.value = self.value\n",
        "        new_node.left = self.left\n",
        "        new_node.right = self.right\n",
        "        return new_node"
      ]
    },
    {
      "cell_type": "code",
      "execution_count": null,
      "metadata": {
        "id": "RJ5PgiwfNGDu"
      },
      "outputs": [],
      "source": [
        "class votingTree:\n",
        "    def __init__(self,root):\n",
        "        self.root = Node(root)\n",
        "\n",
        "    def insert_left(self,current_node,id):\n",
        "        if current_node.left is None:\n",
        "            current_node.left = Node(id)\n",
        "        else:\n",
        "            new_node = Node(id)\n",
        "            new_node.left = current_node.left\n",
        "            current_node.left = new_node\n",
        "\n",
        "    def insert_right(self,current_node,id):\n",
        "        if current_node.right is None:\n",
        "            current_node.right = Node(id)\n",
        "        else:\n",
        "            new_node = Node(id)\n",
        "            new_node.right = current_node.right\n",
        "            current_node.right = new_node\n",
        "\n",
        "    def generate_balanced_tree(self,num_leaves):\n",
        "        \"\"\"\n",
        "        : returns: the root and a list with the leaves objects (nodes)\n",
        "        Where the root is root to a balanced tree with 'num_leaves' leaves\n",
        "        -> Balanced tree or almost balanced tree - all leaves are either on the last level of the tree\n",
        "        or on the one before that\n",
        "        \"\"\"\n",
        "        leaves = [self.root]\n",
        "        nodes_to_process = [self.root]\n",
        "        # we keep in \"nodes_to_process\" all nodes that can still have more successors\n",
        "        # nodes who still do not have 2 children (we talk about binary voting trees!)\n",
        "\n",
        "        leaves_left = num_leaves\n",
        "        bruh = 1\n",
        "        while leaves_left > 0: # while we still need to add leaves\n",
        "            current_node = nodes_to_process[0]\n",
        "            if current_node.left is None:\n",
        "              self.insert_left(current_node, f\"node {bruh + 1}\")\n",
        "              bruh += 1\n",
        "              if current_node in leaves:\n",
        "                leaves.remove(current_node)\n",
        "              leaves.append(current_node.left)\n",
        "              if current_node == self.root:\n",
        "                leaves_left -= 1\n",
        "              nodes_to_process.append(current_node.left)\n",
        "\n",
        "            else: # current_node.right is None:\n",
        "              self.insert_right(current_node, f\"node {bruh + 1}\")\n",
        "              bruh += 1\n",
        "              # if current_node in leaves: # this will never happen because we add left before right always\n",
        "              #   leaves.remove(current_node)\n",
        "              leaves.append(current_node.right)\n",
        "              leaves_left -= 1\n",
        "              nodes_to_process.append(current_node.right)\n",
        "              nodes_to_process.remove(current_node)\n",
        "\n",
        "        return self.root, leaves\n",
        "\n",
        "    def generate_random_tree(self, num_leaves):\n",
        "        \"\"\"\n",
        "        : returns: the root and a list with the leaves objects (nodes)\n",
        "        Where the root is root to a random tree with 'num_leaves' leaves\n",
        "        \"\"\"\n",
        "        leaves = [self.root]\n",
        "        nodes_to_process = [self.root]\n",
        "        # we keep in \"nodes_to_process\" all nodes that can still have more successors\n",
        "        # nodes who still do not have 2 children (we talk about binary voting trees!)\n",
        "        bruh = 1\n",
        "        while len(leaves) < num_leaves: #while we haven't gotten to the number of leaves wanted\n",
        "            current_node = random.choice(nodes_to_process)\n",
        "            is_leaf = True\n",
        "\n",
        "            # Randomly decide to insert a left or right child\n",
        "            if random.choice([True, False]):\n",
        "                if current_node.left is None:\n",
        "                    self.insert_left(current_node, f\"node {bruh+1}\")\n",
        "                    if current_node in leaves:\n",
        "                        leaves.remove(current_node)\n",
        "                    leaves.append(current_node.left)\n",
        "                    nodes_to_process.append(current_node.left)\n",
        "                    bruh+=1\n",
        "\n",
        "            else:\n",
        "                if current_node.right is None:\n",
        "                    self.insert_right(current_node, f\"node {bruh+1}\")\n",
        "                    if current_node in leaves:\n",
        "                        leaves.remove(current_node)\n",
        "                    leaves.append(current_node.right)\n",
        "                    nodes_to_process.append(current_node.right)\n",
        "                    bruh += 1\n",
        "\n",
        "            if current_node.left and current_node.right:\n",
        "                  nodes_to_process.remove(current_node)\n",
        "\n",
        "        return self.root, leaves\n",
        "\n",
        "    def draw_tree(self): # drawing the tree with the leaves being a different color :)\n",
        "        G = nx.DiGraph()\n",
        "        self._add_edges(self.root, G)\n",
        "        pos = self._get_node_positions(self.root)\n",
        "        labels = {node.id: node.id for node in self._get_nodes(self.root)}\n",
        "\n",
        "        # Identify leaf nodes\n",
        "        leaves = [node for node in self._get_nodes(self.root) if node.left is None and node.right is None]\n",
        "\n",
        "        # Assign colors: lightblue for internal nodes, lightgreen for leaves\n",
        "        node_colors = []\n",
        "        for node in self._get_nodes(self.root):\n",
        "            if node in leaves:\n",
        "                node_colors.append(\"lightpink\")  # Color for leaves\n",
        "            else:\n",
        "                node_colors.append(\"lightgreen\")  # Color for internal nodes\n",
        "\n",
        "        # Draw the graph\n",
        "        nx.draw(\n",
        "            G,\n",
        "            pos,\n",
        "            with_labels=True,\n",
        "            labels=labels,\n",
        "            node_size=1000,\n",
        "            node_color=node_colors,  # Use the list of colors\n",
        "            font_size=12,\n",
        "            arrows=False,\n",
        "        )\n",
        "        plt.show()\n",
        "\n",
        "    def _add_edges(self, node, graph):\n",
        "        if node.left:\n",
        "            graph.add_edge(node.id, node.left.id)\n",
        "            self._add_edges(node.left, graph)\n",
        "        if node.right:\n",
        "            graph.add_edge(node.id, node.right.id)\n",
        "            self._add_edges(node.right, graph)\n",
        "\n",
        "    def _get_node_positions(self, node, pos=None, x=0, y=0, layer=1):\n",
        "        if pos is None:\n",
        "            pos = {node.id: (x, y)}\n",
        "        else:\n",
        "            pos[node.id] = (x, y)\n",
        "\n",
        "        if node.left:\n",
        "            pos = self._get_node_positions(node.left, pos, x - 1 / layer, y - 1, layer + 1)\n",
        "        if node.right:\n",
        "            pos = self._get_node_positions(node.right, pos, x + 1 / layer, y - 1, layer + 1)\n",
        "\n",
        "        return pos\n",
        "\n",
        "    def _get_nodes(self, node):\n",
        "        nodes = [node]\n",
        "        if node.left:\n",
        "            nodes.extend(self._get_nodes(node.left))\n",
        "        if node.right:\n",
        "            nodes.extend(self._get_nodes(node.right))\n",
        "        return nodes"
      ]
    },
    {
      "cell_type": "markdown",
      "metadata": {
        "id": "FCHIpvCLP9Tx"
      },
      "source": [
        "Now we have the trees defined as desired and also a given tournament. The following functions will assist us in finding the winner of a tournament with the help of the voting tree.\n",
        "\n",
        "That is, will perform the backwards induction we discussed in our project and provided the Helpful Figure on."
      ]
    },
    {
      "cell_type": "code",
      "execution_count": null,
      "metadata": {
        "id": "9kA-VHHaOuNj"
      },
      "outputs": [],
      "source": [
        "def find_winner(alt1,alt2,tournament,alternatives):\n",
        "    \"\"\"\n",
        "    : param: alt1\n",
        "    : param: alt2\n",
        "    : param: tournament\n",
        "    : param: alternatives\n",
        "    : return: the winner between alt1 and alt2 according to the tournament\n",
        "    -> Performs the basic step of the backwards induction discussed in our project/the paper\n",
        "    \"\"\"\n",
        "    if alt1 == -1:\n",
        "        return alt2\n",
        "    if alt2 == -1:\n",
        "        return alt1\n",
        "\n",
        "    if tournament.has_edge(alt1,alt2):\n",
        "        return alt1\n",
        "\n",
        "    elif tournament.has_edge(alt2,alt1):\n",
        "        return alt2\n",
        "\n",
        "def simulate_tree(root, tournament, alternatives):\n",
        "    \"\"\"\n",
        "    : param: root\n",
        "    : param: tournament\n",
        "    : param: alternatives\n",
        "    : return: the winner of the tournament according to the tree\n",
        "    -> Performs the backwards induction discussed in our project/the paper\n",
        "    \"\"\"\n",
        "    nodes_lst = [] # the nodes which still haven't been \"decided\"\n",
        "    if root.left:\n",
        "        nodes_lst.append(root.left)\n",
        "    if root.right:\n",
        "        nodes_lst.append(root.right)\n",
        "    if len(nodes_lst) == 0:\n",
        "        return root.value\n",
        "    elif len(nodes_lst) == 1:\n",
        "        return simulate_tree(nodes_lst[0], tournament,alternatives)\n",
        "    else: # if we're here then \"root\" is parent of two leaves!\n",
        "        winner1 = simulate_tree(nodes_lst[0],tournament,alternatives)\n",
        "        winner2 = simulate_tree(nodes_lst[1],tournament,alternatives)\n",
        "        return find_winner(winner1,winner2,tournament,alternatives)"
      ]
    },
    {
      "cell_type": "markdown",
      "metadata": {
        "id": "Sbt-hBY0Rm35"
      },
      "source": [
        "After all of the definitions above we're finally ready to start actually learning the trees of each voting rule according to our world."
      ]
    },
    {
      "cell_type": "markdown",
      "source": [
        "Check how accurate a certain leaves assignment 'leaves' on a tree based on root 'root' is over a given set of tournaments and their winners (our sample space)"
      ],
      "metadata": {
        "id": "QsohkocxIfeh"
      }
    },
    {
      "cell_type": "code",
      "execution_count": null,
      "metadata": {
        "id": "UQVTiGjfwtlu"
      },
      "outputs": [],
      "source": [
        "def check_accuracy(root, leaves, alternatives, tour_win):\n",
        "  \"\"\"\n",
        "  : param: root\n",
        "  : param: leaves\n",
        "  : param: alternatives\n",
        "  : param: tour_win: the sample space - a dictionary of the batches (sub-samples), each value is a tuple of (tournament, (winning_ranking, winner))\n",
        "  : return: the number of times the leaves assignment leads us to the correct winner on the sample space tour_win\n",
        "  \"\"\"\n",
        "  correct = 0\n",
        "  for i, batch in enumerate(tour_win):\n",
        "    winner = simulate_tree(root, tour_win[i][0], alternatives)\n",
        "    correct += (winner == tour_win[i][1][1])\n",
        "  return correct"
      ]
    },
    {
      "cell_type": "code",
      "execution_count": null,
      "metadata": {
        "id": "4vax-PeyFKrD"
      },
      "outputs": [],
      "source": [
        "def list_node_deepcopy(node_list):\n",
        "  new_list = []\n",
        "  for nod in node_list:\n",
        "    new_list.append(nod.deepcopy())\n",
        "  return new_list"
      ]
    },
    {
      "cell_type": "code",
      "execution_count": null,
      "metadata": {
        "id": "GX6QrimAuD29"
      },
      "outputs": [],
      "source": [
        "def learn_tree(root, leaves, alternatives, tour_win : dict):\n",
        "  \"\"\"\n",
        "  : param: root\n",
        "  : param: leaves\n",
        "  : param: alternatives\n",
        "  : param: tour_win: the sample space - a dictionary of the batches (sub-samples), each value is a tuple of (tournament, (winning_ranking, winner))\n",
        "  : return: the leaves assignment that leads us to the correct winner on the sample space tour_win\n",
        "  \"\"\"\n",
        "  for leaf in leaves:\n",
        "    leaf.value = -1\n",
        "\n",
        "  correct = check_accuracy(root, leaves, alternatives, tour_win)\n",
        "\n",
        "  # here we are going to use a greedy algo to learn the placement\n",
        "\n",
        "  for i in tqdm(range(20)):\n",
        "    # the former assignment\n",
        "    leaves_former = list_node_deepcopy(leaves)\n",
        "    for leaf in leaves:\n",
        "      placement_value = []\n",
        "      for alt in alternatives:\n",
        "        leaf.value = alt\n",
        "        placement_value.append(check_accuracy(root, leaves, alternatives, tour_win) - correct)\n",
        "      correct += max(placement_value)\n",
        "      leaf.value = alternatives[placement_value.index(max(placement_value))]\n",
        "    if leaves_former == leaves or correct == len(tour_win):\n",
        "      break\n",
        "  # print(\"my n word\")\n",
        "  return leaves\n",
        "\n",
        "  # todo: the accuracy doesnt run on the real tree"
      ]
    },
    {
      "cell_type": "markdown",
      "metadata": {
        "id": "M0gJZ73H7f_y"
      },
      "source": [
        "Main running:"
      ]
    },
    {
      "cell_type": "code",
      "execution_count": null,
      "metadata": {
        "id": "lNOCG_P57n5a"
      },
      "outputs": [],
      "source": [
        "voting_rules = ['borda', 'plurality', 'copland', 'irv']\n",
        "# alternatives = [i for i in range(1,101)]\n",
        "# according to the source, the alternative which recieved the most ratings\n",
        "more_relevant_alternatives = [0, 5, 7, 8, 13, 15, 16, 17, 18, 19, 20]\n",
        "alts_idx = [i for i in range(len(more_relevant_alternatives)-1)]\n",
        "# more_rel_alts = [4, 6, 7, 12, 14, 15, 16, 17, 18, 19] # in index"
      ]
    },
    {
      "cell_type": "code",
      "execution_count": null,
      "metadata": {
        "id": "UARwpKfC6mjs"
      },
      "outputs": [],
      "source": [
        "# with most relevant 10 candidates!\n",
        "path = \"jester-data-1.xls\"\n",
        "votes = extract_data(path)\n",
        "relevant_votes = relevant_rankings(votes, more_relevant_alternatives)\n",
        "full_votes = remove_less_than_k(relevant_votes,k = len(more_relevant_alternatives) - 1)\n",
        "rankings = votes_to_rankings(full_votes)\n",
        "train, batches_train, test, batches_test = create_train_batches_test(rankings,0.8,100)"
      ]
    },
    {
      "cell_type": "code",
      "execution_count": null,
      "metadata": {
        "id": "b6E-Mf1_6n1p"
      },
      "outputs": [],
      "source": [
        "dict_tour_win = {}\n",
        "for vr in voting_rules:\n",
        "  dict_tour_win[vr] = {}\n",
        "  for i, batch in enumerate(batches_train):\n",
        "    if vr == 'borda':\n",
        "      dict_tour_win[vr][i] = (create_tournaments(batch,alts_idx), borda_rule(batch, alts_idx))\n",
        "    elif vr == 'plurality':\n",
        "      dict_tour_win[vr][i] = (create_tournaments(batch,alts_idx), plurality_rule(batch, alts_idx))\n",
        "    elif vr == 'copland':\n",
        "      dict_tour_win[vr][i] = (create_tournaments(batch,alts_idx), copland_rule(batch, alts_idx))\n",
        "    else:\n",
        "      dict_tour_win[vr][i] = (create_tournaments(batch,alts_idx), irv_rule(batch, alts_idx))"
      ]
    },
    {
      "cell_type": "code",
      "execution_count": null,
      "metadata": {
        "id": "-ku0T3I7AIyT"
      },
      "outputs": [],
      "source": [
        "# create different tree structures we'll use for our voting trees!\n",
        "trees = {}\n",
        "# all different types of tree structures we will use\n",
        "types = ['balanced', '1st rand', '2nd rand', '3rd rand', '4th rand', '5th rand']\n",
        "# the different leaves number we're interested in checking\n",
        "leafs_num = [2, 4, 8, 12, 16, 24, 32, 40, 48, 56, 64]\n",
        "\n",
        "for leaf in leafs_num:\n",
        "  trees[leaf] = {}\n",
        "  for typ in types:\n",
        "    trees[leaf][typ] = {}\n",
        "\n",
        "for leaf in leafs_num:\n",
        "  for typ in types:\n",
        "    if typ != 'balanced':\n",
        "      rand_tree = votingTree(\"root\")  # Start with root value 1\n",
        "      rand_root,rand_leaves = rand_tree.generate_random_tree(leaf) # generate a random tree structure with 4 leaves\n",
        "      trees[leaf][typ] = (rand_tree, rand_root, rand_leaves)\n",
        "    else:\n",
        "      bal_tree = votingTree(\"root\")  # Start with root value 1\n",
        "      bal_root,bal_leaves = bal_tree.generate_balanced_tree(leaf) # generate a random tree structure with 4 leaves\n",
        "      trees[leaf][typ] = (bal_tree, bal_root, bal_leaves)"
      ]
    },
    {
      "cell_type": "markdown",
      "metadata": {
        "id": "Bj80ntHLoMOW"
      },
      "source": [
        "Now that the environment we want to learn is created (the trees we will learn for each voting rule, for each number of leaves), we can perform a greedy learning algorithm that will leave us with a concise representation of each voting rule.\n",
        "\n",
        "In other words, the trees will (hopefully) almost always be able to tell us the (rightfull) winner of a tournament when the latter is given."
      ]
    },
    {
      "cell_type": "markdown",
      "metadata": {
        "id": "JjzLQYVo3TGV"
      },
      "source": [
        "After the previous step, we have all the trees needed already learned!\n",
        "\n",
        "Now we will calculate the accuracy of each voting tree learned for each voting rule, number of leaves and different structures created. (The accuracies over each of the different structures will be shown in three manners : the balanced tree, average of the random trees and average of all structures put together)"
      ]
    },
    {
      "cell_type": "code",
      "source": [
        "# calculate the accuracies on the test set\n",
        "dict_tour_win_test = {}\n",
        "for vr in voting_rules:\n",
        "  dict_tour_win_test[vr] = {}\n",
        "  for i, batch in enumerate(batches_test):\n",
        "    if vr == 'borda':\n",
        "      dict_tour_win_test[vr][i] = (create_tournaments(batch,alts_idx), borda_rule(batch, alts_idx))\n",
        "    elif vr == 'plurality':\n",
        "      dict_tour_win_test[vr][i] = (create_tournaments(batch,alts_idx), plurality_rule(batch, alts_idx))\n",
        "    elif vr == 'copland':\n",
        "      dict_tour_win_test[vr][i] = (create_tournaments(batch,alts_idx), copland_rule(batch, alts_idx))\n",
        "    else:\n",
        "      dict_tour_win_test[vr][i] = (create_tournaments(batch,alts_idx), irv_rule(batch, alts_idx))"
      ],
      "metadata": {
        "id": "YHOig7F_MoaT"
      },
      "execution_count": null,
      "outputs": []
    },
    {
      "cell_type": "code",
      "execution_count": null,
      "metadata": {
        "colab": {
          "base_uri": "https://localhost:8080/"
        },
        "id": "-t3LFiZ9njMP",
        "collapsed": true,
        "outputId": "9292b618-5dc7-44ef-85a6-765b4eafc84f"
      },
      "outputs": [
        {
          "metadata": {
            "tags": null
          },
          "name": "stderr",
          "output_type": "stream",
          "text": [
            "100%|██████████| 20/20 [00:00<00:00, 190.59it/s]\n"
          ]
        },
        {
          "metadata": {
            "tags": null
          },
          "name": "stdout",
          "output_type": "stream",
          "text": [
            "Iteration Time: 0.12 sec\n"
          ]
        },
        {
          "metadata": {
            "tags": null
          },
          "name": "stderr",
          "output_type": "stream",
          "text": [
            "100%|██████████| 20/20 [00:00<00:00, 166.09it/s]\n"
          ]
        },
        {
          "metadata": {
            "tags": null
          },
          "name": "stdout",
          "output_type": "stream",
          "text": [
            "Iteration Time: 0.12 sec\n"
          ]
        },
        {
          "metadata": {
            "tags": null
          },
          "name": "stderr",
          "output_type": "stream",
          "text": [
            "100%|██████████| 20/20 [00:00<00:00, 80.56it/s] \n"
          ]
        },
        {
          "metadata": {
            "tags": null
          },
          "name": "stdout",
          "output_type": "stream",
          "text": [
            "Iteration Time: 0.25 sec\n"
          ]
        },
        {
          "metadata": {
            "tags": null
          },
          "name": "stderr",
          "output_type": "stream",
          "text": [
            "100%|██████████| 20/20 [00:00<00:00, 105.66it/s]\n"
          ]
        },
        {
          "metadata": {
            "tags": null
          },
          "name": "stdout",
          "output_type": "stream",
          "text": [
            "Iteration Time: 0.20 sec\n"
          ]
        },
        {
          "metadata": {
            "tags": null
          },
          "name": "stderr",
          "output_type": "stream",
          "text": [
            "100%|██████████| 20/20 [00:00<00:00, 92.31it/s]\n"
          ]
        },
        {
          "metadata": {
            "tags": null
          },
          "name": "stdout",
          "output_type": "stream",
          "text": [
            "Iteration Time: 0.22 sec\n"
          ]
        },
        {
          "metadata": {
            "tags": null
          },
          "name": "stderr",
          "output_type": "stream",
          "text": [
            "100%|██████████| 20/20 [00:00<00:00, 79.68it/s]\n"
          ]
        },
        {
          "metadata": {
            "tags": null
          },
          "name": "stdout",
          "output_type": "stream",
          "text": [
            "Iteration Time: 0.26 sec\n"
          ]
        },
        {
          "metadata": {
            "tags": null
          },
          "name": "stderr",
          "output_type": "stream",
          "text": [
            "100%|██████████| 20/20 [00:00<00:00, 22.48it/s]\n"
          ]
        },
        {
          "metadata": {
            "tags": null
          },
          "name": "stdout",
          "output_type": "stream",
          "text": [
            "Iteration Time: 0.90 sec\n"
          ]
        },
        {
          "metadata": {
            "tags": null
          },
          "name": "stderr",
          "output_type": "stream",
          "text": [
            "100%|██████████| 20/20 [00:01<00:00, 17.34it/s]\n"
          ]
        },
        {
          "metadata": {
            "tags": null
          },
          "name": "stdout",
          "output_type": "stream",
          "text": [
            "Iteration Time: 1.16 sec\n"
          ]
        },
        {
          "metadata": {
            "tags": null
          },
          "name": "stderr",
          "output_type": "stream",
          "text": [
            "100%|██████████| 20/20 [00:00<00:00, 33.28it/s]\n"
          ]
        },
        {
          "metadata": {
            "tags": null
          },
          "name": "stdout",
          "output_type": "stream",
          "text": [
            "Iteration Time: 0.61 sec\n"
          ]
        },
        {
          "metadata": {
            "tags": null
          },
          "name": "stderr",
          "output_type": "stream",
          "text": [
            "100%|██████████| 20/20 [00:00<00:00, 29.84it/s]\n"
          ]
        },
        {
          "metadata": {
            "tags": null
          },
          "name": "stdout",
          "output_type": "stream",
          "text": [
            "Iteration Time: 0.68 sec\n"
          ]
        },
        {
          "metadata": {
            "tags": null
          },
          "name": "stderr",
          "output_type": "stream",
          "text": [
            "100%|██████████| 20/20 [00:00<00:00, 27.48it/s]\n"
          ]
        },
        {
          "metadata": {
            "tags": null
          },
          "name": "stdout",
          "output_type": "stream",
          "text": [
            "Iteration Time: 0.73 sec\n"
          ]
        },
        {
          "metadata": {
            "tags": null
          },
          "name": "stderr",
          "output_type": "stream",
          "text": [
            "100%|██████████| 20/20 [00:01<00:00, 18.69it/s]\n"
          ]
        },
        {
          "metadata": {
            "tags": null
          },
          "name": "stdout",
          "output_type": "stream",
          "text": [
            "Iteration Time: 1.08 sec\n"
          ]
        },
        {
          "metadata": {
            "tags": null
          },
          "name": "stderr",
          "output_type": "stream",
          "text": [
            "100%|██████████| 20/20 [00:02<00:00,  7.59it/s]\n"
          ]
        },
        {
          "metadata": {
            "tags": null
          },
          "name": "stdout",
          "output_type": "stream",
          "text": [
            "Iteration Time: 2.64 sec\n"
          ]
        },
        {
          "metadata": {
            "tags": null
          },
          "name": "stderr",
          "output_type": "stream",
          "text": [
            "100%|██████████| 20/20 [00:02<00:00,  7.00it/s]\n"
          ]
        },
        {
          "metadata": {
            "tags": null
          },
          "name": "stdout",
          "output_type": "stream",
          "text": [
            "Iteration Time: 2.86 sec\n"
          ]
        },
        {
          "metadata": {
            "tags": null
          },
          "name": "stderr",
          "output_type": "stream",
          "text": [
            "100%|██████████| 20/20 [00:03<00:00,  5.29it/s]\n"
          ]
        },
        {
          "metadata": {
            "tags": null
          },
          "name": "stdout",
          "output_type": "stream",
          "text": [
            "Iteration Time: 3.79 sec\n"
          ]
        },
        {
          "metadata": {
            "tags": null
          },
          "name": "stderr",
          "output_type": "stream",
          "text": [
            "100%|██████████| 20/20 [00:03<00:00,  6.25it/s]\n"
          ]
        },
        {
          "metadata": {
            "tags": null
          },
          "name": "stdout",
          "output_type": "stream",
          "text": [
            "Iteration Time: 3.21 sec\n"
          ]
        },
        {
          "metadata": {
            "tags": null
          },
          "name": "stderr",
          "output_type": "stream",
          "text": [
            "100%|██████████| 20/20 [00:02<00:00,  6.75it/s]\n"
          ]
        },
        {
          "metadata": {
            "tags": null
          },
          "name": "stdout",
          "output_type": "stream",
          "text": [
            "Iteration Time: 2.97 sec\n"
          ]
        },
        {
          "metadata": {
            "tags": null
          },
          "name": "stderr",
          "output_type": "stream",
          "text": [
            "100%|██████████| 20/20 [00:02<00:00,  7.18it/s]\n"
          ]
        },
        {
          "metadata": {
            "tags": null
          },
          "name": "stdout",
          "output_type": "stream",
          "text": [
            "Iteration Time: 2.79 sec\n"
          ]
        },
        {
          "metadata": {
            "tags": null
          },
          "name": "stderr",
          "output_type": "stream",
          "text": [
            "100%|██████████| 20/20 [00:05<00:00,  3.35it/s]\n"
          ]
        },
        {
          "metadata": {
            "tags": null
          },
          "name": "stdout",
          "output_type": "stream",
          "text": [
            "Iteration Time: 5.97 sec\n"
          ]
        },
        {
          "metadata": {
            "tags": null
          },
          "name": "stderr",
          "output_type": "stream",
          "text": [
            "100%|██████████| 20/20 [00:06<00:00,  3.07it/s]\n"
          ]
        },
        {
          "metadata": {
            "tags": null
          },
          "name": "stdout",
          "output_type": "stream",
          "text": [
            "Iteration Time: 6.52 sec\n"
          ]
        },
        {
          "metadata": {
            "tags": null
          },
          "name": "stderr",
          "output_type": "stream",
          "text": [
            "100%|██████████| 20/20 [00:08<00:00,  2.50it/s]\n"
          ]
        },
        {
          "metadata": {
            "tags": null
          },
          "name": "stdout",
          "output_type": "stream",
          "text": [
            "Iteration Time: 8.01 sec\n"
          ]
        },
        {
          "metadata": {
            "tags": null
          },
          "name": "stderr",
          "output_type": "stream",
          "text": [
            "100%|██████████| 20/20 [00:06<00:00,  2.87it/s]\n"
          ]
        },
        {
          "metadata": {
            "tags": null
          },
          "name": "stdout",
          "output_type": "stream",
          "text": [
            "Iteration Time: 6.96 sec\n"
          ]
        },
        {
          "metadata": {
            "tags": null
          },
          "name": "stderr",
          "output_type": "stream",
          "text": [
            "100%|██████████| 20/20 [00:06<00:00,  3.01it/s]\n"
          ]
        },
        {
          "metadata": {
            "tags": null
          },
          "name": "stdout",
          "output_type": "stream",
          "text": [
            "Iteration Time: 6.65 sec\n"
          ]
        },
        {
          "metadata": {
            "tags": null
          },
          "name": "stderr",
          "output_type": "stream",
          "text": [
            "100%|██████████| 20/20 [00:07<00:00,  2.56it/s]\n"
          ]
        },
        {
          "metadata": {
            "tags": null
          },
          "name": "stdout",
          "output_type": "stream",
          "text": [
            "Iteration Time: 7.83 sec\n"
          ]
        },
        {
          "metadata": {
            "tags": null
          },
          "name": "stderr",
          "output_type": "stream",
          "text": [
            "100%|██████████| 20/20 [00:08<00:00,  2.29it/s]\n"
          ]
        },
        {
          "metadata": {
            "tags": null
          },
          "name": "stdout",
          "output_type": "stream",
          "text": [
            "Iteration Time: 8.76 sec\n"
          ]
        },
        {
          "metadata": {
            "tags": null
          },
          "name": "stderr",
          "output_type": "stream",
          "text": [
            "100%|██████████| 20/20 [00:12<00:00,  1.65it/s]\n"
          ]
        },
        {
          "metadata": {
            "tags": null
          },
          "name": "stdout",
          "output_type": "stream",
          "text": [
            "Iteration Time: 12.16 sec\n"
          ]
        },
        {
          "metadata": {
            "tags": null
          },
          "name": "stderr",
          "output_type": "stream",
          "text": [
            "100%|██████████| 20/20 [00:11<00:00,  1.71it/s]\n"
          ]
        },
        {
          "metadata": {
            "tags": null
          },
          "name": "stdout",
          "output_type": "stream",
          "text": [
            "Iteration Time: 11.69 sec\n"
          ]
        },
        {
          "metadata": {
            "tags": null
          },
          "name": "stderr",
          "output_type": "stream",
          "text": [
            "100%|██████████| 20/20 [00:12<00:00,  1.62it/s]\n"
          ]
        },
        {
          "metadata": {
            "tags": null
          },
          "name": "stdout",
          "output_type": "stream",
          "text": [
            "Iteration Time: 12.36 sec\n"
          ]
        },
        {
          "metadata": {
            "tags": null
          },
          "name": "stderr",
          "output_type": "stream",
          "text": [
            "100%|██████████| 20/20 [00:12<00:00,  1.54it/s]\n"
          ]
        },
        {
          "metadata": {
            "tags": null
          },
          "name": "stdout",
          "output_type": "stream",
          "text": [
            "Iteration Time: 12.98 sec\n"
          ]
        },
        {
          "metadata": {
            "tags": null
          },
          "name": "stderr",
          "output_type": "stream",
          "text": [
            "100%|██████████| 20/20 [00:12<00:00,  1.64it/s]\n"
          ]
        },
        {
          "metadata": {
            "tags": null
          },
          "name": "stdout",
          "output_type": "stream",
          "text": [
            "Iteration Time: 12.17 sec\n"
          ]
        },
        {
          "metadata": {
            "tags": null
          },
          "name": "stderr",
          "output_type": "stream",
          "text": [
            "100%|██████████| 20/20 [00:22<00:00,  1.14s/it]\n"
          ]
        },
        {
          "metadata": {
            "tags": null
          },
          "name": "stdout",
          "output_type": "stream",
          "text": [
            "Iteration Time: 22.79 sec\n"
          ]
        },
        {
          "metadata": {
            "tags": null
          },
          "name": "stderr",
          "output_type": "stream",
          "text": [
            "100%|██████████| 20/20 [00:30<00:00,  1.54s/it]\n"
          ]
        },
        {
          "metadata": {
            "tags": null
          },
          "name": "stdout",
          "output_type": "stream",
          "text": [
            "Iteration Time: 30.89 sec\n"
          ]
        },
        {
          "metadata": {
            "tags": null
          },
          "name": "stderr",
          "output_type": "stream",
          "text": [
            "100%|██████████| 20/20 [00:30<00:00,  1.50s/it]\n"
          ]
        },
        {
          "metadata": {
            "tags": null
          },
          "name": "stdout",
          "output_type": "stream",
          "text": [
            "Iteration Time: 30.09 sec\n"
          ]
        },
        {
          "metadata": {
            "tags": null
          },
          "name": "stderr",
          "output_type": "stream",
          "text": [
            "100%|██████████| 20/20 [00:28<00:00,  1.42s/it]\n"
          ]
        },
        {
          "metadata": {
            "tags": null
          },
          "name": "stdout",
          "output_type": "stream",
          "text": [
            "Iteration Time: 28.42 sec\n"
          ]
        },
        {
          "metadata": {
            "tags": null
          },
          "name": "stderr",
          "output_type": "stream",
          "text": [
            "100%|██████████| 20/20 [00:23<00:00,  1.17s/it]\n"
          ]
        },
        {
          "metadata": {
            "tags": null
          },
          "name": "stdout",
          "output_type": "stream",
          "text": [
            "Iteration Time: 23.43 sec\n"
          ]
        },
        {
          "metadata": {
            "tags": null
          },
          "name": "stderr",
          "output_type": "stream",
          "text": [
            "100%|██████████| 20/20 [00:27<00:00,  1.39s/it]\n"
          ]
        },
        {
          "metadata": {
            "tags": null
          },
          "name": "stdout",
          "output_type": "stream",
          "text": [
            "Iteration Time: 27.72 sec\n"
          ]
        },
        {
          "metadata": {
            "tags": null
          },
          "name": "stderr",
          "output_type": "stream",
          "text": [
            "100%|██████████| 20/20 [00:39<00:00,  1.97s/it]\n"
          ]
        },
        {
          "metadata": {
            "tags": null
          },
          "name": "stdout",
          "output_type": "stream",
          "text": [
            "Iteration Time: 39.47 sec\n"
          ]
        },
        {
          "metadata": {
            "tags": null
          },
          "name": "stderr",
          "output_type": "stream",
          "text": [
            "100%|██████████| 20/20 [00:51<00:00,  2.55s/it]\n"
          ]
        },
        {
          "metadata": {
            "tags": null
          },
          "name": "stdout",
          "output_type": "stream",
          "text": [
            "Iteration Time: 51.06 sec\n"
          ]
        },
        {
          "metadata": {
            "tags": null
          },
          "name": "stderr",
          "output_type": "stream",
          "text": [
            "100%|██████████| 20/20 [00:51<00:00,  2.55s/it]\n"
          ]
        },
        {
          "metadata": {
            "tags": null
          },
          "name": "stdout",
          "output_type": "stream",
          "text": [
            "Iteration Time: 51.03 sec\n"
          ]
        },
        {
          "metadata": {
            "tags": null
          },
          "name": "stderr",
          "output_type": "stream",
          "text": [
            "100%|██████████| 20/20 [00:51<00:00,  2.60s/it]\n"
          ]
        },
        {
          "metadata": {
            "tags": null
          },
          "name": "stdout",
          "output_type": "stream",
          "text": [
            "Iteration Time: 51.98 sec\n"
          ]
        },
        {
          "metadata": {
            "tags": null
          },
          "name": "stderr",
          "output_type": "stream",
          "text": [
            "100%|██████████| 20/20 [00:48<00:00,  2.44s/it]\n"
          ]
        },
        {
          "metadata": {
            "tags": null
          },
          "name": "stdout",
          "output_type": "stream",
          "text": [
            "Iteration Time: 48.76 sec\n"
          ]
        },
        {
          "metadata": {
            "tags": null
          },
          "name": "stderr",
          "output_type": "stream",
          "text": [
            "100%|██████████| 20/20 [00:47<00:00,  2.37s/it]\n"
          ]
        },
        {
          "metadata": {
            "tags": null
          },
          "name": "stdout",
          "output_type": "stream",
          "text": [
            "Iteration Time: 47.43 sec\n"
          ]
        },
        {
          "metadata": {
            "tags": null
          },
          "name": "stderr",
          "output_type": "stream",
          "text": [
            "100%|██████████| 20/20 [01:01<00:00,  3.07s/it]\n"
          ]
        },
        {
          "metadata": {
            "tags": null
          },
          "name": "stdout",
          "output_type": "stream",
          "text": [
            "Iteration Time: 61.44 sec\n"
          ]
        },
        {
          "metadata": {
            "tags": null
          },
          "name": "stderr",
          "output_type": "stream",
          "text": [
            "100%|██████████| 20/20 [01:14<00:00,  3.71s/it]\n"
          ]
        },
        {
          "metadata": {
            "tags": null
          },
          "name": "stdout",
          "output_type": "stream",
          "text": [
            "Iteration Time: 74.13 sec\n"
          ]
        },
        {
          "metadata": {
            "tags": null
          },
          "name": "stderr",
          "output_type": "stream",
          "text": [
            "100%|██████████| 20/20 [01:21<00:00,  4.08s/it]\n"
          ]
        },
        {
          "metadata": {
            "tags": null
          },
          "name": "stdout",
          "output_type": "stream",
          "text": [
            "Iteration Time: 81.69 sec\n"
          ]
        },
        {
          "metadata": {
            "tags": null
          },
          "name": "stderr",
          "output_type": "stream",
          "text": [
            "100%|██████████| 20/20 [01:18<00:00,  3.92s/it]\n"
          ]
        },
        {
          "metadata": {
            "tags": null
          },
          "name": "stdout",
          "output_type": "stream",
          "text": [
            "Iteration Time: 78.35 sec\n"
          ]
        },
        {
          "metadata": {
            "tags": null
          },
          "name": "stderr",
          "output_type": "stream",
          "text": [
            "100%|██████████| 20/20 [01:25<00:00,  4.26s/it]\n"
          ]
        },
        {
          "metadata": {
            "tags": null
          },
          "name": "stdout",
          "output_type": "stream",
          "text": [
            "Iteration Time: 85.23 sec\n"
          ]
        },
        {
          "metadata": {
            "tags": null
          },
          "name": "stderr",
          "output_type": "stream",
          "text": [
            "100%|██████████| 20/20 [01:12<00:00,  3.65s/it]\n"
          ]
        },
        {
          "metadata": {
            "tags": null
          },
          "name": "stdout",
          "output_type": "stream",
          "text": [
            "Iteration Time: 72.94 sec\n"
          ]
        },
        {
          "metadata": {
            "tags": null
          },
          "name": "stderr",
          "output_type": "stream",
          "text": [
            "100%|██████████| 20/20 [01:26<00:00,  4.35s/it]\n"
          ]
        },
        {
          "metadata": {
            "tags": null
          },
          "name": "stdout",
          "output_type": "stream",
          "text": [
            "Iteration Time: 86.95 sec\n"
          ]
        },
        {
          "metadata": {
            "tags": null
          },
          "name": "stderr",
          "output_type": "stream",
          "text": [
            "100%|██████████| 20/20 [01:58<00:00,  5.91s/it]\n"
          ]
        },
        {
          "metadata": {
            "tags": null
          },
          "name": "stdout",
          "output_type": "stream",
          "text": [
            "Iteration Time: 118.28 sec\n"
          ]
        },
        {
          "metadata": {
            "tags": null
          },
          "name": "stderr",
          "output_type": "stream",
          "text": [
            "100%|██████████| 20/20 [01:59<00:00,  5.98s/it]\n"
          ]
        },
        {
          "metadata": {
            "tags": null
          },
          "name": "stdout",
          "output_type": "stream",
          "text": [
            "Iteration Time: 119.67 sec\n"
          ]
        },
        {
          "metadata": {
            "tags": null
          },
          "name": "stderr",
          "output_type": "stream",
          "text": [
            "100%|██████████| 20/20 [01:52<00:00,  5.64s/it]\n"
          ]
        },
        {
          "metadata": {
            "tags": null
          },
          "name": "stdout",
          "output_type": "stream",
          "text": [
            "Iteration Time: 112.79 sec\n"
          ]
        },
        {
          "metadata": {
            "tags": null
          },
          "name": "stderr",
          "output_type": "stream",
          "text": [
            "100%|██████████| 20/20 [02:01<00:00,  6.09s/it]\n"
          ]
        },
        {
          "metadata": {
            "tags": null
          },
          "name": "stdout",
          "output_type": "stream",
          "text": [
            "Iteration Time: 121.81 sec\n"
          ]
        },
        {
          "metadata": {
            "tags": null
          },
          "name": "stderr",
          "output_type": "stream",
          "text": [
            "100%|██████████| 20/20 [02:00<00:00,  6.00s/it]\n"
          ]
        },
        {
          "metadata": {
            "tags": null
          },
          "name": "stdout",
          "output_type": "stream",
          "text": [
            "Iteration Time: 120.03 sec\n"
          ]
        },
        {
          "metadata": {
            "tags": null
          },
          "name": "stderr",
          "output_type": "stream",
          "text": [
            "100%|██████████| 20/20 [01:59<00:00,  5.96s/it]\n"
          ]
        },
        {
          "metadata": {
            "tags": null
          },
          "name": "stdout",
          "output_type": "stream",
          "text": [
            "Iteration Time: 119.22 sec\n"
          ]
        },
        {
          "metadata": {
            "tags": null
          },
          "name": "stderr",
          "output_type": "stream",
          "text": [
            "100%|██████████| 20/20 [02:42<00:00,  8.14s/it]\n"
          ]
        },
        {
          "metadata": {
            "tags": null
          },
          "name": "stdout",
          "output_type": "stream",
          "text": [
            "Iteration Time: 162.77 sec\n"
          ]
        },
        {
          "metadata": {
            "tags": null
          },
          "name": "stderr",
          "output_type": "stream",
          "text": [
            "100%|██████████| 20/20 [02:42<00:00,  8.14s/it]\n"
          ]
        },
        {
          "metadata": {
            "tags": null
          },
          "name": "stdout",
          "output_type": "stream",
          "text": [
            "Iteration Time: 162.90 sec\n"
          ]
        },
        {
          "metadata": {
            "tags": null
          },
          "name": "stderr",
          "output_type": "stream",
          "text": [
            "100%|██████████| 20/20 [02:43<00:00,  8.20s/it]\n"
          ]
        },
        {
          "metadata": {
            "tags": null
          },
          "name": "stdout",
          "output_type": "stream",
          "text": [
            "Iteration Time: 163.93 sec\n"
          ]
        },
        {
          "metadata": {
            "tags": null
          },
          "name": "stderr",
          "output_type": "stream",
          "text": [
            "100%|██████████| 20/20 [02:34<00:00,  7.70s/it]\n"
          ]
        },
        {
          "metadata": {
            "tags": null
          },
          "name": "stdout",
          "output_type": "stream",
          "text": [
            "Iteration Time: 154.06 sec\n"
          ]
        },
        {
          "metadata": {
            "tags": null
          },
          "name": "stderr",
          "output_type": "stream",
          "text": [
            "100%|██████████| 20/20 [02:39<00:00,  7.95s/it]\n"
          ]
        },
        {
          "metadata": {
            "tags": null
          },
          "name": "stdout",
          "output_type": "stream",
          "text": [
            "Iteration Time: 159.05 sec\n"
          ]
        },
        {
          "metadata": {
            "tags": null
          },
          "name": "stderr",
          "output_type": "stream",
          "text": [
            "100%|██████████| 20/20 [02:33<00:00,  7.69s/it]\n"
          ]
        },
        {
          "metadata": {
            "tags": null
          },
          "name": "stdout",
          "output_type": "stream",
          "text": [
            "Iteration Time: 153.75 sec\n"
          ]
        },
        {
          "metadata": {
            "tags": null
          },
          "name": "stderr",
          "output_type": "stream",
          "text": [
            "100%|██████████| 20/20 [03:24<00:00, 10.25s/it]\n"
          ]
        },
        {
          "metadata": {
            "tags": null
          },
          "name": "stdout",
          "output_type": "stream",
          "text": [
            "Iteration Time: 204.99 sec\n"
          ]
        },
        {
          "metadata": {
            "tags": null
          },
          "name": "stderr",
          "output_type": "stream",
          "text": [
            "100%|██████████| 20/20 [03:14<00:00,  9.71s/it]\n"
          ]
        },
        {
          "metadata": {
            "tags": null
          },
          "name": "stdout",
          "output_type": "stream",
          "text": [
            "Iteration Time: 194.25 sec\n"
          ]
        },
        {
          "metadata": {
            "tags": null
          },
          "name": "stderr",
          "output_type": "stream",
          "text": [
            "100%|██████████| 20/20 [03:31<00:00, 10.55s/it]\n"
          ]
        },
        {
          "metadata": {
            "tags": null
          },
          "name": "stdout",
          "output_type": "stream",
          "text": [
            "Iteration Time: 211.03 sec\n"
          ]
        },
        {
          "metadata": {
            "tags": null
          },
          "name": "stderr",
          "output_type": "stream",
          "text": [
            "100%|██████████| 20/20 [03:28<00:00, 10.41s/it]\n"
          ]
        },
        {
          "metadata": {
            "tags": null
          },
          "name": "stdout",
          "output_type": "stream",
          "text": [
            "Iteration Time: 208.23 sec\n"
          ]
        },
        {
          "metadata": {
            "tags": null
          },
          "name": "stderr",
          "output_type": "stream",
          "text": [
            "100%|██████████| 20/20 [03:24<00:00, 10.21s/it]\n"
          ]
        },
        {
          "metadata": {
            "tags": null
          },
          "name": "stdout",
          "output_type": "stream",
          "text": [
            "Iteration Time: 204.24 sec\n"
          ]
        },
        {
          "metadata": {
            "tags": null
          },
          "name": "stderr",
          "output_type": "stream",
          "text": [
            "100%|██████████| 20/20 [00:00<00:00, 195.32it/s]\n"
          ]
        },
        {
          "metadata": {
            "tags": null
          },
          "name": "stdout",
          "output_type": "stream",
          "text": [
            "Iteration Time: 0.11 sec\n"
          ]
        },
        {
          "metadata": {
            "tags": null
          },
          "name": "stderr",
          "output_type": "stream",
          "text": [
            "100%|██████████| 20/20 [00:00<00:00, 164.63it/s]\n"
          ]
        },
        {
          "metadata": {
            "tags": null
          },
          "name": "stdout",
          "output_type": "stream",
          "text": [
            "Iteration Time: 0.13 sec\n"
          ]
        },
        {
          "metadata": {
            "tags": null
          },
          "name": "stderr",
          "output_type": "stream",
          "text": [
            "100%|██████████| 20/20 [00:00<00:00, 123.55it/s]\n"
          ]
        },
        {
          "metadata": {
            "tags": null
          },
          "name": "stdout",
          "output_type": "stream",
          "text": [
            "Iteration Time: 0.17 sec\n"
          ]
        },
        {
          "metadata": {
            "tags": null
          },
          "name": "stderr",
          "output_type": "stream",
          "text": [
            "100%|██████████| 20/20 [00:00<00:00, 192.91it/s]\n"
          ]
        },
        {
          "metadata": {
            "tags": null
          },
          "name": "stdout",
          "output_type": "stream",
          "text": [
            "Iteration Time: 0.11 sec\n"
          ]
        },
        {
          "metadata": {
            "tags": null
          },
          "name": "stderr",
          "output_type": "stream",
          "text": [
            "100%|██████████| 20/20 [00:00<00:00, 145.03it/s]\n"
          ]
        },
        {
          "metadata": {
            "tags": null
          },
          "name": "stdout",
          "output_type": "stream",
          "text": [
            "Iteration Time: 0.14 sec\n"
          ]
        },
        {
          "metadata": {
            "tags": null
          },
          "name": "stderr",
          "output_type": "stream",
          "text": [
            "100%|██████████| 20/20 [00:00<00:00, 156.24it/s]\n"
          ]
        },
        {
          "metadata": {
            "tags": null
          },
          "name": "stdout",
          "output_type": "stream",
          "text": [
            "Iteration Time: 0.13 sec\n"
          ]
        },
        {
          "metadata": {
            "tags": null
          },
          "name": "stderr",
          "output_type": "stream",
          "text": [
            "100%|██████████| 20/20 [00:00<00:00, 39.30it/s]\n"
          ]
        },
        {
          "metadata": {
            "tags": null
          },
          "name": "stdout",
          "output_type": "stream",
          "text": [
            "Iteration Time: 0.51 sec\n"
          ]
        },
        {
          "metadata": {
            "tags": null
          },
          "name": "stderr",
          "output_type": "stream",
          "text": [
            "100%|██████████| 20/20 [00:00<00:00, 25.83it/s]\n"
          ]
        },
        {
          "metadata": {
            "tags": null
          },
          "name": "stdout",
          "output_type": "stream",
          "text": [
            "Iteration Time: 0.78 sec\n"
          ]
        },
        {
          "metadata": {
            "tags": null
          },
          "name": "stderr",
          "output_type": "stream",
          "text": [
            "100%|██████████| 20/20 [00:00<00:00, 32.49it/s]\n"
          ]
        },
        {
          "metadata": {
            "tags": null
          },
          "name": "stdout",
          "output_type": "stream",
          "text": [
            "Iteration Time: 0.62 sec\n"
          ]
        },
        {
          "metadata": {
            "tags": null
          },
          "name": "stderr",
          "output_type": "stream",
          "text": [
            "100%|██████████| 20/20 [00:00<00:00, 30.30it/s]\n"
          ]
        },
        {
          "metadata": {
            "tags": null
          },
          "name": "stdout",
          "output_type": "stream",
          "text": [
            "Iteration Time: 0.66 sec\n"
          ]
        },
        {
          "metadata": {
            "tags": null
          },
          "name": "stderr",
          "output_type": "stream",
          "text": [
            "100%|██████████| 20/20 [00:00<00:00, 33.55it/s]\n"
          ]
        },
        {
          "metadata": {
            "tags": null
          },
          "name": "stdout",
          "output_type": "stream",
          "text": [
            "Iteration Time: 0.60 sec\n"
          ]
        },
        {
          "metadata": {
            "tags": null
          },
          "name": "stderr",
          "output_type": "stream",
          "text": [
            "100%|██████████| 20/20 [00:00<00:00, 35.47it/s]\n"
          ]
        },
        {
          "metadata": {
            "tags": null
          },
          "name": "stdout",
          "output_type": "stream",
          "text": [
            "Iteration Time: 0.57 sec\n"
          ]
        },
        {
          "metadata": {
            "tags": null
          },
          "name": "stderr",
          "output_type": "stream",
          "text": [
            "100%|██████████| 20/20 [00:02<00:00,  9.30it/s]\n"
          ]
        },
        {
          "metadata": {
            "tags": null
          },
          "name": "stdout",
          "output_type": "stream",
          "text": [
            "Iteration Time: 2.16 sec\n"
          ]
        },
        {
          "metadata": {
            "tags": null
          },
          "name": "stderr",
          "output_type": "stream",
          "text": [
            "100%|██████████| 20/20 [00:03<00:00,  5.29it/s]\n"
          ]
        },
        {
          "metadata": {
            "tags": null
          },
          "name": "stdout",
          "output_type": "stream",
          "text": [
            "Iteration Time: 3.79 sec\n"
          ]
        },
        {
          "metadata": {
            "tags": null
          },
          "name": "stderr",
          "output_type": "stream",
          "text": [
            "100%|██████████| 20/20 [00:02<00:00,  6.91it/s]\n"
          ]
        },
        {
          "metadata": {
            "tags": null
          },
          "name": "stdout",
          "output_type": "stream",
          "text": [
            "Iteration Time: 2.90 sec\n"
          ]
        },
        {
          "metadata": {
            "tags": null
          },
          "name": "stderr",
          "output_type": "stream",
          "text": [
            "100%|██████████| 20/20 [00:03<00:00,  6.21it/s]\n"
          ]
        },
        {
          "metadata": {
            "tags": null
          },
          "name": "stdout",
          "output_type": "stream",
          "text": [
            "Iteration Time: 3.23 sec\n"
          ]
        },
        {
          "metadata": {
            "tags": null
          },
          "name": "stderr",
          "output_type": "stream",
          "text": [
            "100%|██████████| 20/20 [00:02<00:00,  6.76it/s]\n"
          ]
        },
        {
          "metadata": {
            "tags": null
          },
          "name": "stdout",
          "output_type": "stream",
          "text": [
            "Iteration Time: 2.96 sec\n"
          ]
        },
        {
          "metadata": {
            "tags": null
          },
          "name": "stderr",
          "output_type": "stream",
          "text": [
            "100%|██████████| 20/20 [00:03<00:00,  5.03it/s]\n"
          ]
        },
        {
          "metadata": {
            "tags": null
          },
          "name": "stdout",
          "output_type": "stream",
          "text": [
            "Iteration Time: 3.98 sec\n"
          ]
        },
        {
          "metadata": {
            "tags": null
          },
          "name": "stderr",
          "output_type": "stream",
          "text": [
            "100%|██████████| 20/20 [00:04<00:00,  4.00it/s]\n"
          ]
        },
        {
          "metadata": {
            "tags": null
          },
          "name": "stdout",
          "output_type": "stream",
          "text": [
            "Iteration Time: 5.01 sec\n"
          ]
        },
        {
          "metadata": {
            "tags": null
          },
          "name": "stderr",
          "output_type": "stream",
          "text": [
            "100%|██████████| 20/20 [00:06<00:00,  2.86it/s]\n"
          ]
        },
        {
          "metadata": {
            "tags": null
          },
          "name": "stdout",
          "output_type": "stream",
          "text": [
            "Iteration Time: 6.99 sec\n"
          ]
        },
        {
          "metadata": {
            "tags": null
          },
          "name": "stderr",
          "output_type": "stream",
          "text": [
            "100%|██████████| 20/20 [00:06<00:00,  3.10it/s]\n"
          ]
        },
        {
          "metadata": {
            "tags": null
          },
          "name": "stdout",
          "output_type": "stream",
          "text": [
            "Iteration Time: 6.45 sec\n"
          ]
        },
        {
          "metadata": {
            "tags": null
          },
          "name": "stderr",
          "output_type": "stream",
          "text": [
            "100%|██████████| 20/20 [00:07<00:00,  2.65it/s]\n"
          ]
        },
        {
          "metadata": {
            "tags": null
          },
          "name": "stdout",
          "output_type": "stream",
          "text": [
            "Iteration Time: 7.55 sec\n"
          ]
        },
        {
          "metadata": {
            "tags": null
          },
          "name": "stderr",
          "output_type": "stream",
          "text": [
            "100%|██████████| 20/20 [00:05<00:00,  3.34it/s]\n"
          ]
        },
        {
          "metadata": {
            "tags": null
          },
          "name": "stdout",
          "output_type": "stream",
          "text": [
            "Iteration Time: 6.00 sec\n"
          ]
        },
        {
          "metadata": {
            "tags": null
          },
          "name": "stderr",
          "output_type": "stream",
          "text": [
            "100%|██████████| 20/20 [00:07<00:00,  2.57it/s]\n"
          ]
        },
        {
          "metadata": {
            "tags": null
          },
          "name": "stdout",
          "output_type": "stream",
          "text": [
            "Iteration Time: 7.77 sec\n"
          ]
        },
        {
          "metadata": {
            "tags": null
          },
          "name": "stderr",
          "output_type": "stream",
          "text": [
            "100%|██████████| 20/20 [00:09<00:00,  2.13it/s]\n"
          ]
        },
        {
          "metadata": {
            "tags": null
          },
          "name": "stdout",
          "output_type": "stream",
          "text": [
            "Iteration Time: 9.39 sec\n"
          ]
        },
        {
          "metadata": {
            "tags": null
          },
          "name": "stderr",
          "output_type": "stream",
          "text": [
            "100%|██████████| 20/20 [00:12<00:00,  1.65it/s]\n"
          ]
        },
        {
          "metadata": {
            "tags": null
          },
          "name": "stdout",
          "output_type": "stream",
          "text": [
            "Iteration Time: 12.13 sec\n"
          ]
        },
        {
          "metadata": {
            "tags": null
          },
          "name": "stderr",
          "output_type": "stream",
          "text": [
            "100%|██████████| 20/20 [00:11<00:00,  1.81it/s]\n"
          ]
        },
        {
          "metadata": {
            "tags": null
          },
          "name": "stdout",
          "output_type": "stream",
          "text": [
            "Iteration Time: 11.06 sec\n"
          ]
        },
        {
          "metadata": {
            "tags": null
          },
          "name": "stderr",
          "output_type": "stream",
          "text": [
            "100%|██████████| 20/20 [00:12<00:00,  1.64it/s]\n"
          ]
        },
        {
          "metadata": {
            "tags": null
          },
          "name": "stdout",
          "output_type": "stream",
          "text": [
            "Iteration Time: 12.18 sec\n"
          ]
        },
        {
          "metadata": {
            "tags": null
          },
          "name": "stderr",
          "output_type": "stream",
          "text": [
            "100%|██████████| 20/20 [00:14<00:00,  1.37it/s]\n"
          ]
        },
        {
          "metadata": {
            "tags": null
          },
          "name": "stdout",
          "output_type": "stream",
          "text": [
            "Iteration Time: 14.65 sec\n"
          ]
        },
        {
          "metadata": {
            "tags": null
          },
          "name": "stderr",
          "output_type": "stream",
          "text": [
            "100%|██████████| 20/20 [00:12<00:00,  1.65it/s]\n"
          ]
        },
        {
          "metadata": {
            "tags": null
          },
          "name": "stdout",
          "output_type": "stream",
          "text": [
            "Iteration Time: 12.11 sec\n"
          ]
        },
        {
          "metadata": {
            "tags": null
          },
          "name": "stderr",
          "output_type": "stream",
          "text": [
            "100%|██████████| 20/20 [00:21<00:00,  1.08s/it]\n"
          ]
        },
        {
          "metadata": {
            "tags": null
          },
          "name": "stdout",
          "output_type": "stream",
          "text": [
            "Iteration Time: 21.71 sec\n"
          ]
        },
        {
          "metadata": {
            "tags": null
          },
          "name": "stderr",
          "output_type": "stream",
          "text": [
            "100%|██████████| 20/20 [00:29<00:00,  1.49s/it]\n"
          ]
        },
        {
          "metadata": {
            "tags": null
          },
          "name": "stdout",
          "output_type": "stream",
          "text": [
            "Iteration Time: 29.83 sec\n"
          ]
        },
        {
          "metadata": {
            "tags": null
          },
          "name": "stderr",
          "output_type": "stream",
          "text": [
            "100%|██████████| 20/20 [00:29<00:00,  1.47s/it]\n"
          ]
        },
        {
          "metadata": {
            "tags": null
          },
          "name": "stdout",
          "output_type": "stream",
          "text": [
            "Iteration Time: 29.43 sec\n"
          ]
        },
        {
          "metadata": {
            "tags": null
          },
          "name": "stderr",
          "output_type": "stream",
          "text": [
            "100%|██████████| 20/20 [00:28<00:00,  1.42s/it]\n"
          ]
        },
        {
          "metadata": {
            "tags": null
          },
          "name": "stdout",
          "output_type": "stream",
          "text": [
            "Iteration Time: 28.33 sec\n"
          ]
        },
        {
          "metadata": {
            "tags": null
          },
          "name": "stderr",
          "output_type": "stream",
          "text": [
            "100%|██████████| 20/20 [00:23<00:00,  1.16s/it]\n"
          ]
        },
        {
          "metadata": {
            "tags": null
          },
          "name": "stdout",
          "output_type": "stream",
          "text": [
            "Iteration Time: 23.18 sec\n"
          ]
        },
        {
          "metadata": {
            "tags": null
          },
          "name": "stderr",
          "output_type": "stream",
          "text": [
            "100%|██████████| 20/20 [00:29<00:00,  1.45s/it]\n"
          ]
        },
        {
          "metadata": {
            "tags": null
          },
          "name": "stdout",
          "output_type": "stream",
          "text": [
            "Iteration Time: 29.03 sec\n"
          ]
        },
        {
          "metadata": {
            "tags": null
          },
          "name": "stderr",
          "output_type": "stream",
          "text": [
            "100%|██████████| 20/20 [00:38<00:00,  1.91s/it]\n"
          ]
        },
        {
          "metadata": {
            "tags": null
          },
          "name": "stdout",
          "output_type": "stream",
          "text": [
            "Iteration Time: 38.18 sec\n"
          ]
        },
        {
          "metadata": {
            "tags": null
          },
          "name": "stderr",
          "output_type": "stream",
          "text": [
            "100%|██████████| 20/20 [00:49<00:00,  2.48s/it]\n"
          ]
        },
        {
          "metadata": {
            "tags": null
          },
          "name": "stdout",
          "output_type": "stream",
          "text": [
            "Iteration Time: 49.62 sec\n"
          ]
        },
        {
          "metadata": {
            "tags": null
          },
          "name": "stderr",
          "output_type": "stream",
          "text": [
            "100%|██████████| 20/20 [00:53<00:00,  2.65s/it]\n"
          ]
        },
        {
          "metadata": {
            "tags": null
          },
          "name": "stdout",
          "output_type": "stream",
          "text": [
            "Iteration Time: 53.04 sec\n"
          ]
        },
        {
          "metadata": {
            "tags": null
          },
          "name": "stderr",
          "output_type": "stream",
          "text": [
            "100%|██████████| 20/20 [00:51<00:00,  2.56s/it]\n"
          ]
        },
        {
          "metadata": {
            "tags": null
          },
          "name": "stdout",
          "output_type": "stream",
          "text": [
            "Iteration Time: 51.12 sec\n"
          ]
        },
        {
          "output_type": "stream",
          "name": "stderr",
          "text": [
            "100%|██████████| 20/20 [00:48<00:00,  2.41s/it]\n"
          ]
        },
        {
          "output_type": "stream",
          "name": "stdout",
          "text": [
            "Iteration Time: 48.27 sec\n"
          ]
        },
        {
          "output_type": "stream",
          "name": "stderr",
          "text": [
            "100%|██████████| 20/20 [00:46<00:00,  2.33s/it]\n"
          ]
        },
        {
          "output_type": "stream",
          "name": "stdout",
          "text": [
            "Iteration Time: 46.62 sec\n"
          ]
        },
        {
          "output_type": "stream",
          "name": "stderr",
          "text": [
            "100%|██████████| 20/20 [01:00<00:00,  3.03s/it]\n"
          ]
        },
        {
          "output_type": "stream",
          "name": "stdout",
          "text": [
            "Iteration Time: 60.59 sec\n"
          ]
        },
        {
          "output_type": "stream",
          "name": "stderr",
          "text": [
            "100%|██████████| 20/20 [01:12<00:00,  3.65s/it]\n"
          ]
        },
        {
          "output_type": "stream",
          "name": "stdout",
          "text": [
            "Iteration Time: 72.98 sec\n"
          ]
        },
        {
          "output_type": "stream",
          "name": "stderr",
          "text": [
            "100%|██████████| 20/20 [01:20<00:00,  4.03s/it]\n"
          ]
        },
        {
          "output_type": "stream",
          "name": "stdout",
          "text": [
            "Iteration Time: 80.70 sec\n"
          ]
        },
        {
          "output_type": "stream",
          "name": "stderr",
          "text": [
            "100%|██████████| 20/20 [01:16<00:00,  3.82s/it]\n"
          ]
        },
        {
          "output_type": "stream",
          "name": "stdout",
          "text": [
            "Iteration Time: 76.45 sec\n"
          ]
        },
        {
          "output_type": "stream",
          "name": "stderr",
          "text": [
            "100%|██████████| 20/20 [01:22<00:00,  4.12s/it]\n"
          ]
        },
        {
          "output_type": "stream",
          "name": "stdout",
          "text": [
            "Iteration Time: 82.50 sec\n"
          ]
        },
        {
          "output_type": "stream",
          "name": "stderr",
          "text": [
            "100%|██████████| 20/20 [01:12<00:00,  3.63s/it]\n"
          ]
        },
        {
          "output_type": "stream",
          "name": "stdout",
          "text": [
            "Iteration Time: 72.66 sec\n"
          ]
        },
        {
          "output_type": "stream",
          "name": "stderr",
          "text": [
            "100%|██████████| 20/20 [01:25<00:00,  4.28s/it]\n"
          ]
        },
        {
          "output_type": "stream",
          "name": "stdout",
          "text": [
            "Iteration Time: 85.55 sec\n"
          ]
        },
        {
          "output_type": "stream",
          "name": "stderr",
          "text": [
            "100%|██████████| 20/20 [01:53<00:00,  5.69s/it]\n"
          ]
        },
        {
          "output_type": "stream",
          "name": "stdout",
          "text": [
            "Iteration Time: 113.82 sec\n"
          ]
        },
        {
          "output_type": "stream",
          "name": "stderr",
          "text": [
            "100%|██████████| 20/20 [01:55<00:00,  5.77s/it]\n"
          ]
        },
        {
          "output_type": "stream",
          "name": "stdout",
          "text": [
            "Iteration Time: 115.45 sec\n"
          ]
        },
        {
          "output_type": "stream",
          "name": "stderr",
          "text": [
            "100%|██████████| 20/20 [01:51<00:00,  5.55s/it]\n"
          ]
        },
        {
          "output_type": "stream",
          "name": "stdout",
          "text": [
            "Iteration Time: 111.03 sec\n"
          ]
        },
        {
          "output_type": "stream",
          "name": "stderr",
          "text": [
            "100%|██████████| 20/20 [01:56<00:00,  5.83s/it]\n"
          ]
        },
        {
          "output_type": "stream",
          "name": "stdout",
          "text": [
            "Iteration Time: 116.57 sec\n"
          ]
        },
        {
          "output_type": "stream",
          "name": "stderr",
          "text": [
            "100%|██████████| 20/20 [01:59<00:00,  5.99s/it]\n"
          ]
        },
        {
          "output_type": "stream",
          "name": "stdout",
          "text": [
            "Iteration Time: 119.91 sec\n"
          ]
        },
        {
          "output_type": "stream",
          "name": "stderr",
          "text": [
            "100%|██████████| 20/20 [01:54<00:00,  5.73s/it]\n"
          ]
        },
        {
          "output_type": "stream",
          "name": "stdout",
          "text": [
            "Iteration Time: 114.66 sec\n"
          ]
        },
        {
          "output_type": "stream",
          "name": "stderr",
          "text": [
            "100%|██████████| 20/20 [02:37<00:00,  7.85s/it]\n"
          ]
        },
        {
          "output_type": "stream",
          "name": "stdout",
          "text": [
            "Iteration Time: 157.04 sec\n"
          ]
        },
        {
          "output_type": "stream",
          "name": "stderr",
          "text": [
            "100%|██████████| 20/20 [02:37<00:00,  7.86s/it]\n"
          ]
        },
        {
          "output_type": "stream",
          "name": "stdout",
          "text": [
            "Iteration Time: 157.27 sec\n"
          ]
        },
        {
          "output_type": "stream",
          "name": "stderr",
          "text": [
            "100%|██████████| 20/20 [02:40<00:00,  8.00s/it]\n"
          ]
        },
        {
          "output_type": "stream",
          "name": "stdout",
          "text": [
            "Iteration Time: 160.11 sec\n"
          ]
        },
        {
          "output_type": "stream",
          "name": "stderr",
          "text": [
            "100%|██████████| 20/20 [02:30<00:00,  7.55s/it]\n"
          ]
        },
        {
          "output_type": "stream",
          "name": "stdout",
          "text": [
            "Iteration Time: 151.01 sec\n"
          ]
        },
        {
          "output_type": "stream",
          "name": "stderr",
          "text": [
            "100%|██████████| 20/20 [02:36<00:00,  7.85s/it]\n"
          ]
        },
        {
          "output_type": "stream",
          "name": "stdout",
          "text": [
            "Iteration Time: 156.94 sec\n"
          ]
        },
        {
          "output_type": "stream",
          "name": "stderr",
          "text": [
            "100%|██████████| 20/20 [02:30<00:00,  7.54s/it]\n"
          ]
        },
        {
          "output_type": "stream",
          "name": "stdout",
          "text": [
            "Iteration Time: 150.83 sec\n"
          ]
        },
        {
          "output_type": "stream",
          "name": "stderr",
          "text": [
            "100%|██████████| 20/20 [03:19<00:00,  9.97s/it]\n"
          ]
        },
        {
          "output_type": "stream",
          "name": "stdout",
          "text": [
            "Iteration Time: 199.32 sec\n"
          ]
        },
        {
          "output_type": "stream",
          "name": "stderr",
          "text": [
            "100%|██████████| 20/20 [03:12<00:00,  9.61s/it]\n"
          ]
        },
        {
          "output_type": "stream",
          "name": "stdout",
          "text": [
            "Iteration Time: 192.20 sec\n"
          ]
        },
        {
          "output_type": "stream",
          "name": "stderr",
          "text": [
            "100%|██████████| 20/20 [03:24<00:00, 10.24s/it]\n"
          ]
        },
        {
          "output_type": "stream",
          "name": "stdout",
          "text": [
            "Iteration Time: 204.83 sec\n"
          ]
        },
        {
          "output_type": "stream",
          "name": "stderr",
          "text": [
            "100%|██████████| 20/20 [03:22<00:00, 10.10s/it]\n"
          ]
        },
        {
          "output_type": "stream",
          "name": "stdout",
          "text": [
            "Iteration Time: 202.04 sec\n"
          ]
        },
        {
          "output_type": "stream",
          "name": "stderr",
          "text": [
            "100%|██████████| 20/20 [03:19<00:00,  9.96s/it]\n"
          ]
        },
        {
          "output_type": "stream",
          "name": "stdout",
          "text": [
            "Iteration Time: 199.28 sec\n"
          ]
        },
        {
          "output_type": "stream",
          "name": "stderr",
          "text": [
            "100%|██████████| 20/20 [00:00<00:00, 103.95it/s]"
          ]
        },
        {
          "output_type": "stream",
          "name": "stdout",
          "text": [
            "Iteration Time: 0.20 sec"
          ]
        },
        {
          "output_type": "stream",
          "name": "stderr",
          "text": [
            "\n"
          ]
        },
        {
          "output_type": "stream",
          "name": "stdout",
          "text": [
            "\n"
          ]
        },
        {
          "output_type": "stream",
          "name": "stderr",
          "text": [
            "100%|██████████| 20/20 [00:00<00:00, 80.98it/s]\n"
          ]
        },
        {
          "output_type": "stream",
          "name": "stdout",
          "text": [
            "Iteration Time: 0.25 sec\n"
          ]
        },
        {
          "output_type": "stream",
          "name": "stderr",
          "text": [
            "100%|██████████| 20/20 [00:00<00:00, 66.81it/s]\n"
          ]
        },
        {
          "output_type": "stream",
          "name": "stdout",
          "text": [
            "Iteration Time: 0.31 sec\n"
          ]
        },
        {
          "output_type": "stream",
          "name": "stderr",
          "text": [
            "100%|██████████| 20/20 [00:00<00:00, 109.53it/s]\n"
          ]
        },
        {
          "output_type": "stream",
          "name": "stdout",
          "text": [
            "Iteration Time: 0.19 sec\n"
          ]
        },
        {
          "output_type": "stream",
          "name": "stderr",
          "text": [
            "100%|██████████| 20/20 [00:00<00:00, 85.89it/s]\n"
          ]
        },
        {
          "output_type": "stream",
          "name": "stdout",
          "text": [
            "Iteration Time: 0.24 sec\n"
          ]
        },
        {
          "output_type": "stream",
          "name": "stderr",
          "text": [
            "100%|██████████| 20/20 [00:00<00:00, 83.66it/s]\n"
          ]
        },
        {
          "output_type": "stream",
          "name": "stdout",
          "text": [
            "Iteration Time: 0.24 sec\n"
          ]
        },
        {
          "output_type": "stream",
          "name": "stderr",
          "text": [
            "100%|██████████| 20/20 [00:00<00:00, 30.10it/s]\n"
          ]
        },
        {
          "output_type": "stream",
          "name": "stdout",
          "text": [
            "Iteration Time: 0.67 sec\n"
          ]
        },
        {
          "output_type": "stream",
          "name": "stderr",
          "text": [
            "100%|██████████| 20/20 [00:00<00:00, 25.69it/s]\n"
          ]
        },
        {
          "output_type": "stream",
          "name": "stdout",
          "text": [
            "Iteration Time: 0.78 sec\n"
          ]
        },
        {
          "output_type": "stream",
          "name": "stderr",
          "text": [
            "100%|██████████| 20/20 [00:00<00:00, 32.44it/s]\n"
          ]
        },
        {
          "output_type": "stream",
          "name": "stdout",
          "text": [
            "Iteration Time: 0.62 sec\n"
          ]
        },
        {
          "output_type": "stream",
          "name": "stderr",
          "text": [
            "100%|██████████| 20/20 [00:00<00:00, 30.23it/s]\n"
          ]
        },
        {
          "output_type": "stream",
          "name": "stdout",
          "text": [
            "Iteration Time: 0.67 sec\n"
          ]
        },
        {
          "output_type": "stream",
          "name": "stderr",
          "text": [
            "100%|██████████| 20/20 [00:00<00:00, 33.18it/s]\n"
          ]
        },
        {
          "output_type": "stream",
          "name": "stdout",
          "text": [
            "Iteration Time: 0.61 sec\n"
          ]
        },
        {
          "output_type": "stream",
          "name": "stderr",
          "text": [
            "100%|██████████| 20/20 [00:00<00:00, 34.95it/s]\n"
          ]
        },
        {
          "output_type": "stream",
          "name": "stdout",
          "text": [
            "Iteration Time: 0.58 sec\n"
          ]
        },
        {
          "output_type": "stream",
          "name": "stderr",
          "text": [
            "100%|██████████| 20/20 [00:02<00:00,  9.60it/s]\n"
          ]
        },
        {
          "output_type": "stream",
          "name": "stdout",
          "text": [
            "Iteration Time: 2.09 sec\n"
          ]
        },
        {
          "output_type": "stream",
          "name": "stderr",
          "text": [
            "100%|██████████| 20/20 [00:02<00:00,  7.00it/s]\n"
          ]
        },
        {
          "output_type": "stream",
          "name": "stdout",
          "text": [
            "Iteration Time: 2.86 sec\n"
          ]
        },
        {
          "output_type": "stream",
          "name": "stderr",
          "text": [
            "100%|██████████| 20/20 [00:03<00:00,  5.64it/s]\n"
          ]
        },
        {
          "output_type": "stream",
          "name": "stdout",
          "text": [
            "Iteration Time: 3.55 sec\n"
          ]
        },
        {
          "output_type": "stream",
          "name": "stderr",
          "text": [
            "100%|██████████| 20/20 [00:03<00:00,  5.94it/s]\n"
          ]
        },
        {
          "output_type": "stream",
          "name": "stdout",
          "text": [
            "Iteration Time: 3.38 sec\n"
          ]
        },
        {
          "output_type": "stream",
          "name": "stderr",
          "text": [
            "100%|██████████| 20/20 [00:03<00:00,  6.61it/s]\n"
          ]
        },
        {
          "output_type": "stream",
          "name": "stdout",
          "text": [
            "Iteration Time: 3.03 sec\n"
          ]
        },
        {
          "output_type": "stream",
          "name": "stderr",
          "text": [
            "100%|██████████| 20/20 [00:02<00:00,  7.13it/s]\n"
          ]
        },
        {
          "output_type": "stream",
          "name": "stdout",
          "text": [
            "Iteration Time: 2.81 sec\n"
          ]
        },
        {
          "output_type": "stream",
          "name": "stderr",
          "text": [
            "100%|██████████| 20/20 [00:05<00:00,  3.42it/s]\n"
          ]
        },
        {
          "output_type": "stream",
          "name": "stdout",
          "text": [
            "Iteration Time: 5.85 sec\n"
          ]
        },
        {
          "output_type": "stream",
          "name": "stderr",
          "text": [
            "100%|██████████| 20/20 [00:05<00:00,  3.38it/s]\n"
          ]
        },
        {
          "output_type": "stream",
          "name": "stdout",
          "text": [
            "Iteration Time: 5.92 sec\n"
          ]
        },
        {
          "output_type": "stream",
          "name": "stderr",
          "text": [
            "100%|██████████| 20/20 [00:07<00:00,  2.80it/s]\n"
          ]
        },
        {
          "output_type": "stream",
          "name": "stdout",
          "text": [
            "Iteration Time: 7.14 sec\n"
          ]
        },
        {
          "output_type": "stream",
          "name": "stderr",
          "text": [
            "100%|██████████| 20/20 [00:06<00:00,  3.19it/s]\n"
          ]
        },
        {
          "output_type": "stream",
          "name": "stdout",
          "text": [
            "Iteration Time: 6.27 sec\n"
          ]
        },
        {
          "output_type": "stream",
          "name": "stderr",
          "text": [
            "100%|██████████| 20/20 [00:07<00:00,  2.77it/s]\n"
          ]
        },
        {
          "output_type": "stream",
          "name": "stdout",
          "text": [
            "Iteration Time: 7.22 sec\n"
          ]
        },
        {
          "output_type": "stream",
          "name": "stderr",
          "text": [
            "100%|██████████| 20/20 [00:07<00:00,  2.63it/s]\n"
          ]
        },
        {
          "output_type": "stream",
          "name": "stdout",
          "text": [
            "Iteration Time: 7.62 sec\n"
          ]
        },
        {
          "output_type": "stream",
          "name": "stderr",
          "text": [
            "100%|██████████| 20/20 [00:08<00:00,  2.37it/s]\n"
          ]
        },
        {
          "output_type": "stream",
          "name": "stdout",
          "text": [
            "Iteration Time: 8.46 sec\n"
          ]
        },
        {
          "output_type": "stream",
          "name": "stderr",
          "text": [
            "100%|██████████| 20/20 [00:11<00:00,  1.67it/s]\n"
          ]
        },
        {
          "output_type": "stream",
          "name": "stdout",
          "text": [
            "Iteration Time: 11.96 sec\n"
          ]
        },
        {
          "output_type": "stream",
          "name": "stderr",
          "text": [
            "100%|██████████| 20/20 [00:12<00:00,  1.55it/s]\n"
          ]
        },
        {
          "output_type": "stream",
          "name": "stdout",
          "text": [
            "Iteration Time: 12.92 sec\n"
          ]
        },
        {
          "output_type": "stream",
          "name": "stderr",
          "text": [
            "100%|██████████| 20/20 [00:12<00:00,  1.63it/s]\n"
          ]
        },
        {
          "output_type": "stream",
          "name": "stdout",
          "text": [
            "Iteration Time: 12.29 sec\n"
          ]
        },
        {
          "output_type": "stream",
          "name": "stderr",
          "text": [
            "100%|██████████| 20/20 [00:12<00:00,  1.57it/s]\n"
          ]
        },
        {
          "output_type": "stream",
          "name": "stdout",
          "text": [
            "Iteration Time: 12.77 sec\n"
          ]
        },
        {
          "output_type": "stream",
          "name": "stderr",
          "text": [
            "100%|██████████| 20/20 [00:12<00:00,  1.65it/s]\n"
          ]
        },
        {
          "output_type": "stream",
          "name": "stdout",
          "text": [
            "Iteration Time: 12.14 sec\n"
          ]
        },
        {
          "output_type": "stream",
          "name": "stderr",
          "text": [
            "100%|██████████| 20/20 [00:21<00:00,  1.10s/it]\n"
          ]
        },
        {
          "output_type": "stream",
          "name": "stdout",
          "text": [
            "Iteration Time: 21.94 sec\n"
          ]
        },
        {
          "output_type": "stream",
          "name": "stderr",
          "text": [
            "100%|██████████| 20/20 [00:29<00:00,  1.48s/it]\n"
          ]
        },
        {
          "output_type": "stream",
          "name": "stdout",
          "text": [
            "Iteration Time: 29.60 sec\n"
          ]
        },
        {
          "output_type": "stream",
          "name": "stderr",
          "text": [
            "100%|██████████| 20/20 [00:30<00:00,  1.51s/it]\n"
          ]
        },
        {
          "output_type": "stream",
          "name": "stdout",
          "text": [
            "Iteration Time: 30.27 sec\n"
          ]
        },
        {
          "output_type": "stream",
          "name": "stderr",
          "text": [
            "100%|██████████| 20/20 [00:29<00:00,  1.49s/it]\n"
          ]
        },
        {
          "output_type": "stream",
          "name": "stdout",
          "text": [
            "Iteration Time: 29.91 sec\n"
          ]
        },
        {
          "output_type": "stream",
          "name": "stderr",
          "text": [
            "100%|██████████| 20/20 [00:22<00:00,  1.14s/it]\n"
          ]
        },
        {
          "output_type": "stream",
          "name": "stdout",
          "text": [
            "Iteration Time: 22.81 sec\n"
          ]
        },
        {
          "output_type": "stream",
          "name": "stderr",
          "text": [
            "100%|██████████| 20/20 [00:28<00:00,  1.42s/it]\n"
          ]
        },
        {
          "output_type": "stream",
          "name": "stdout",
          "text": [
            "Iteration Time: 28.45 sec\n"
          ]
        },
        {
          "output_type": "stream",
          "name": "stderr",
          "text": [
            "100%|██████████| 20/20 [00:36<00:00,  1.84s/it]\n"
          ]
        },
        {
          "output_type": "stream",
          "name": "stdout",
          "text": [
            "Iteration Time: 36.88 sec\n"
          ]
        },
        {
          "output_type": "stream",
          "name": "stderr",
          "text": [
            "100%|██████████| 20/20 [00:49<00:00,  2.47s/it]\n"
          ]
        },
        {
          "output_type": "stream",
          "name": "stdout",
          "text": [
            "Iteration Time: 49.38 sec\n"
          ]
        },
        {
          "output_type": "stream",
          "name": "stderr",
          "text": [
            "100%|██████████| 20/20 [00:51<00:00,  2.55s/it]\n"
          ]
        },
        {
          "output_type": "stream",
          "name": "stdout",
          "text": [
            "Iteration Time: 51.07 sec\n"
          ]
        },
        {
          "output_type": "stream",
          "name": "stderr",
          "text": [
            "100%|██████████| 20/20 [00:50<00:00,  2.53s/it]\n"
          ]
        },
        {
          "output_type": "stream",
          "name": "stdout",
          "text": [
            "Iteration Time: 50.58 sec\n"
          ]
        },
        {
          "output_type": "stream",
          "name": "stderr",
          "text": [
            "100%|██████████| 20/20 [00:47<00:00,  2.39s/it]\n"
          ]
        },
        {
          "output_type": "stream",
          "name": "stdout",
          "text": [
            "Iteration Time: 47.88 sec\n"
          ]
        },
        {
          "output_type": "stream",
          "name": "stderr",
          "text": [
            "100%|██████████| 20/20 [00:47<00:00,  2.40s/it]\n"
          ]
        },
        {
          "output_type": "stream",
          "name": "stdout",
          "text": [
            "Iteration Time: 47.94 sec\n"
          ]
        },
        {
          "output_type": "stream",
          "name": "stderr",
          "text": [
            "100%|██████████| 20/20 [00:58<00:00,  2.93s/it]\n"
          ]
        },
        {
          "output_type": "stream",
          "name": "stdout",
          "text": [
            "Iteration Time: 58.58 sec\n"
          ]
        },
        {
          "output_type": "stream",
          "name": "stderr",
          "text": [
            "100%|██████████| 20/20 [01:14<00:00,  3.70s/it]\n"
          ]
        },
        {
          "output_type": "stream",
          "name": "stdout",
          "text": [
            "Iteration Time: 74.03 sec\n"
          ]
        },
        {
          "output_type": "stream",
          "name": "stderr",
          "text": [
            "100%|██████████| 20/20 [01:17<00:00,  3.90s/it]\n"
          ]
        },
        {
          "output_type": "stream",
          "name": "stdout",
          "text": [
            "Iteration Time: 77.94 sec\n"
          ]
        },
        {
          "output_type": "stream",
          "name": "stderr",
          "text": [
            "100%|██████████| 20/20 [01:18<00:00,  3.91s/it]\n"
          ]
        },
        {
          "output_type": "stream",
          "name": "stdout",
          "text": [
            "Iteration Time: 78.29 sec\n"
          ]
        },
        {
          "output_type": "stream",
          "name": "stderr",
          "text": [
            "100%|██████████| 20/20 [01:21<00:00,  4.08s/it]\n"
          ]
        },
        {
          "output_type": "stream",
          "name": "stdout",
          "text": [
            "Iteration Time: 81.59 sec\n"
          ]
        },
        {
          "output_type": "stream",
          "name": "stderr",
          "text": [
            "100%|██████████| 20/20 [01:13<00:00,  3.67s/it]\n"
          ]
        },
        {
          "output_type": "stream",
          "name": "stdout",
          "text": [
            "Iteration Time: 73.45 sec\n"
          ]
        },
        {
          "output_type": "stream",
          "name": "stderr",
          "text": [
            "100%|██████████| 20/20 [01:24<00:00,  4.23s/it]\n"
          ]
        },
        {
          "output_type": "stream",
          "name": "stdout",
          "text": [
            "Iteration Time: 84.55 sec\n"
          ]
        },
        {
          "output_type": "stream",
          "name": "stderr",
          "text": [
            "100%|██████████| 20/20 [01:55<00:00,  5.77s/it]\n"
          ]
        },
        {
          "output_type": "stream",
          "name": "stdout",
          "text": [
            "Iteration Time: 115.50 sec\n"
          ]
        },
        {
          "output_type": "stream",
          "name": "stderr",
          "text": [
            "100%|██████████| 20/20 [01:57<00:00,  5.89s/it]\n"
          ]
        },
        {
          "output_type": "stream",
          "name": "stdout",
          "text": [
            "Iteration Time: 117.84 sec\n"
          ]
        },
        {
          "output_type": "stream",
          "name": "stderr",
          "text": [
            "100%|██████████| 20/20 [01:50<00:00,  5.55s/it]\n"
          ]
        },
        {
          "output_type": "stream",
          "name": "stdout",
          "text": [
            "Iteration Time: 110.99 sec\n"
          ]
        },
        {
          "output_type": "stream",
          "name": "stderr",
          "text": [
            "100%|██████████| 20/20 [01:58<00:00,  5.94s/it]\n"
          ]
        },
        {
          "output_type": "stream",
          "name": "stdout",
          "text": [
            "Iteration Time: 118.78 sec\n"
          ]
        },
        {
          "output_type": "stream",
          "name": "stderr",
          "text": [
            "100%|██████████| 20/20 [01:58<00:00,  5.95s/it]\n"
          ]
        },
        {
          "output_type": "stream",
          "name": "stdout",
          "text": [
            "Iteration Time: 118.94 sec\n"
          ]
        },
        {
          "output_type": "stream",
          "name": "stderr",
          "text": [
            "100%|██████████| 20/20 [01:58<00:00,  5.93s/it]\n"
          ]
        },
        {
          "output_type": "stream",
          "name": "stdout",
          "text": [
            "Iteration Time: 118.67 sec\n"
          ]
        },
        {
          "output_type": "stream",
          "name": "stderr",
          "text": [
            "100%|██████████| 20/20 [02:38<00:00,  7.93s/it]\n"
          ]
        },
        {
          "output_type": "stream",
          "name": "stdout",
          "text": [
            "Iteration Time: 158.69 sec\n"
          ]
        },
        {
          "output_type": "stream",
          "name": "stderr",
          "text": [
            "100%|██████████| 20/20 [02:38<00:00,  7.93s/it]\n"
          ]
        },
        {
          "output_type": "stream",
          "name": "stdout",
          "text": [
            "Iteration Time: 158.56 sec\n"
          ]
        },
        {
          "output_type": "stream",
          "name": "stderr",
          "text": [
            "100%|██████████| 20/20 [02:42<00:00,  8.14s/it]\n"
          ]
        },
        {
          "output_type": "stream",
          "name": "stdout",
          "text": [
            "Iteration Time: 162.77 sec\n"
          ]
        },
        {
          "output_type": "stream",
          "name": "stderr",
          "text": [
            "100%|██████████| 20/20 [02:33<00:00,  7.66s/it]\n"
          ]
        },
        {
          "output_type": "stream",
          "name": "stdout",
          "text": [
            "Iteration Time: 153.13 sec\n"
          ]
        },
        {
          "output_type": "stream",
          "name": "stderr",
          "text": [
            "100%|██████████| 20/20 [02:34<00:00,  7.75s/it]\n"
          ]
        },
        {
          "output_type": "stream",
          "name": "stdout",
          "text": [
            "Iteration Time: 154.96 sec\n"
          ]
        },
        {
          "output_type": "stream",
          "name": "stderr",
          "text": [
            "100%|██████████| 20/20 [02:31<00:00,  7.60s/it]\n"
          ]
        },
        {
          "output_type": "stream",
          "name": "stdout",
          "text": [
            "Iteration Time: 151.97 sec\n"
          ]
        },
        {
          "output_type": "stream",
          "name": "stderr",
          "text": [
            "100%|██████████| 20/20 [03:19<00:00,  9.98s/it]\n"
          ]
        },
        {
          "output_type": "stream",
          "name": "stdout",
          "text": [
            "Iteration Time: 199.63 sec\n"
          ]
        },
        {
          "output_type": "stream",
          "name": "stderr",
          "text": [
            "100%|██████████| 20/20 [03:13<00:00,  9.69s/it]\n"
          ]
        },
        {
          "output_type": "stream",
          "name": "stdout",
          "text": [
            "Iteration Time: 193.88 sec\n"
          ]
        },
        {
          "output_type": "stream",
          "name": "stderr",
          "text": [
            "100%|██████████| 20/20 [03:23<00:00, 10.20s/it]\n"
          ]
        },
        {
          "output_type": "stream",
          "name": "stdout",
          "text": [
            "Iteration Time: 203.98 sec\n"
          ]
        },
        {
          "output_type": "stream",
          "name": "stderr",
          "text": [
            "100%|██████████| 20/20 [03:25<00:00, 10.27s/it]\n"
          ]
        },
        {
          "output_type": "stream",
          "name": "stdout",
          "text": [
            "Iteration Time: 205.52 sec\n"
          ]
        },
        {
          "output_type": "stream",
          "name": "stderr",
          "text": [
            "100%|██████████| 20/20 [03:21<00:00, 10.08s/it]\n"
          ]
        },
        {
          "output_type": "stream",
          "name": "stdout",
          "text": [
            "Iteration Time: 201.53 sec\n"
          ]
        },
        {
          "output_type": "stream",
          "name": "stderr",
          "text": [
            "100%|██████████| 20/20 [00:00<00:00, 195.38it/s]\n"
          ]
        },
        {
          "output_type": "stream",
          "name": "stdout",
          "text": [
            "Iteration Time: 0.11 sec\n"
          ]
        },
        {
          "output_type": "stream",
          "name": "stderr",
          "text": [
            "100%|██████████| 20/20 [00:00<00:00, 157.44it/s]\n"
          ]
        },
        {
          "output_type": "stream",
          "name": "stdout",
          "text": [
            "Iteration Time: 0.13 sec\n"
          ]
        },
        {
          "output_type": "stream",
          "name": "stderr",
          "text": [
            "100%|██████████| 20/20 [00:00<00:00, 98.11it/s] \n"
          ]
        },
        {
          "output_type": "stream",
          "name": "stdout",
          "text": [
            "Iteration Time: 0.21 sec\n"
          ]
        },
        {
          "output_type": "stream",
          "name": "stderr",
          "text": [
            "100%|██████████| 20/20 [00:00<00:00, 189.49it/s]\n"
          ]
        },
        {
          "output_type": "stream",
          "name": "stdout",
          "text": [
            "Iteration Time: 0.11 sec\n"
          ]
        },
        {
          "output_type": "stream",
          "name": "stderr",
          "text": [
            "100%|██████████| 20/20 [00:00<00:00, 154.77it/s]\n"
          ]
        },
        {
          "output_type": "stream",
          "name": "stdout",
          "text": [
            "Iteration Time: 0.13 sec\n"
          ]
        },
        {
          "output_type": "stream",
          "name": "stderr",
          "text": [
            "100%|██████████| 20/20 [00:00<00:00, 148.44it/s]\n"
          ]
        },
        {
          "output_type": "stream",
          "name": "stdout",
          "text": [
            "Iteration Time: 0.14 sec\n"
          ]
        },
        {
          "output_type": "stream",
          "name": "stderr",
          "text": [
            "100%|██████████| 20/20 [00:00<00:00, 40.88it/s]\n"
          ]
        },
        {
          "output_type": "stream",
          "name": "stdout",
          "text": [
            "Iteration Time: 0.50 sec\n"
          ]
        },
        {
          "output_type": "stream",
          "name": "stderr",
          "text": [
            "100%|██████████| 20/20 [00:00<00:00, 25.43it/s]\n"
          ]
        },
        {
          "output_type": "stream",
          "name": "stdout",
          "text": [
            "Iteration Time: 0.79 sec\n"
          ]
        },
        {
          "output_type": "stream",
          "name": "stderr",
          "text": [
            "100%|██████████| 20/20 [00:00<00:00, 31.48it/s]\n"
          ]
        },
        {
          "output_type": "stream",
          "name": "stdout",
          "text": [
            "Iteration Time: 0.64 sec\n"
          ]
        },
        {
          "output_type": "stream",
          "name": "stderr",
          "text": [
            "100%|██████████| 20/20 [00:00<00:00, 30.04it/s]\n"
          ]
        },
        {
          "output_type": "stream",
          "name": "stdout",
          "text": [
            "Iteration Time: 0.67 sec\n"
          ]
        },
        {
          "output_type": "stream",
          "name": "stderr",
          "text": [
            "100%|██████████| 20/20 [00:00<00:00, 32.37it/s]\n"
          ]
        },
        {
          "output_type": "stream",
          "name": "stdout",
          "text": [
            "Iteration Time: 0.63 sec\n"
          ]
        },
        {
          "output_type": "stream",
          "name": "stderr",
          "text": [
            "100%|██████████| 20/20 [00:00<00:00, 33.82it/s]\n"
          ]
        },
        {
          "output_type": "stream",
          "name": "stdout",
          "text": [
            "Iteration Time: 0.60 sec\n"
          ]
        },
        {
          "output_type": "stream",
          "name": "stderr",
          "text": [
            "100%|██████████| 20/20 [00:02<00:00,  9.30it/s]\n"
          ]
        },
        {
          "output_type": "stream",
          "name": "stdout",
          "text": [
            "Iteration Time: 2.16 sec\n"
          ]
        },
        {
          "output_type": "stream",
          "name": "stderr",
          "text": [
            "100%|██████████| 20/20 [00:03<00:00,  5.16it/s]\n"
          ]
        },
        {
          "output_type": "stream",
          "name": "stdout",
          "text": [
            "Iteration Time: 3.88 sec\n"
          ]
        },
        {
          "output_type": "stream",
          "name": "stderr",
          "text": [
            "100%|██████████| 20/20 [00:02<00:00,  7.56it/s]\n"
          ]
        },
        {
          "output_type": "stream",
          "name": "stdout",
          "text": [
            "Iteration Time: 2.65 sec\n"
          ]
        },
        {
          "output_type": "stream",
          "name": "stderr",
          "text": [
            "100%|██████████| 20/20 [00:03<00:00,  6.12it/s]\n"
          ]
        },
        {
          "output_type": "stream",
          "name": "stdout",
          "text": [
            "Iteration Time: 3.28 sec\n"
          ]
        },
        {
          "output_type": "stream",
          "name": "stderr",
          "text": [
            "100%|██████████| 20/20 [00:03<00:00,  6.35it/s]\n"
          ]
        },
        {
          "output_type": "stream",
          "name": "stdout",
          "text": [
            "Iteration Time: 3.15 sec\n"
          ]
        },
        {
          "output_type": "stream",
          "name": "stderr",
          "text": [
            "100%|██████████| 20/20 [00:03<00:00,  5.40it/s]\n"
          ]
        },
        {
          "output_type": "stream",
          "name": "stdout",
          "text": [
            "Iteration Time: 3.71 sec\n"
          ]
        },
        {
          "output_type": "stream",
          "name": "stderr",
          "text": [
            "100%|██████████| 20/20 [00:04<00:00,  4.01it/s]\n"
          ]
        },
        {
          "output_type": "stream",
          "name": "stdout",
          "text": [
            "Iteration Time: 4.99 sec\n"
          ]
        },
        {
          "output_type": "stream",
          "name": "stderr",
          "text": [
            "100%|██████████| 20/20 [00:07<00:00,  2.81it/s]\n"
          ]
        },
        {
          "output_type": "stream",
          "name": "stdout",
          "text": [
            "Iteration Time: 7.12 sec\n"
          ]
        },
        {
          "output_type": "stream",
          "name": "stderr",
          "text": [
            "100%|██████████| 20/20 [00:06<00:00,  3.29it/s]\n"
          ]
        },
        {
          "output_type": "stream",
          "name": "stdout",
          "text": [
            "Iteration Time: 6.09 sec\n"
          ]
        },
        {
          "output_type": "stream",
          "name": "stderr",
          "text": [
            "100%|██████████| 20/20 [00:07<00:00,  2.72it/s]\n"
          ]
        },
        {
          "output_type": "stream",
          "name": "stdout",
          "text": [
            "Iteration Time: 7.37 sec\n"
          ]
        },
        {
          "output_type": "stream",
          "name": "stderr",
          "text": [
            "100%|██████████| 20/20 [00:06<00:00,  3.25it/s]\n"
          ]
        },
        {
          "output_type": "stream",
          "name": "stdout",
          "text": [
            "Iteration Time: 6.16 sec\n"
          ]
        },
        {
          "output_type": "stream",
          "name": "stderr",
          "text": [
            "100%|██████████| 20/20 [00:07<00:00,  2.62it/s]\n"
          ]
        },
        {
          "output_type": "stream",
          "name": "stdout",
          "text": [
            "Iteration Time: 7.64 sec\n"
          ]
        },
        {
          "output_type": "stream",
          "name": "stderr",
          "text": [
            "100%|██████████| 20/20 [00:09<00:00,  2.05it/s]\n"
          ]
        },
        {
          "output_type": "stream",
          "name": "stdout",
          "text": [
            "Iteration Time: 9.75 sec\n"
          ]
        },
        {
          "output_type": "stream",
          "name": "stderr",
          "text": [
            "100%|██████████| 20/20 [00:12<00:00,  1.66it/s]\n"
          ]
        },
        {
          "output_type": "stream",
          "name": "stdout",
          "text": [
            "Iteration Time: 12.04 sec\n"
          ]
        },
        {
          "output_type": "stream",
          "name": "stderr",
          "text": [
            "100%|██████████| 20/20 [00:11<00:00,  1.73it/s]\n"
          ]
        },
        {
          "output_type": "stream",
          "name": "stdout",
          "text": [
            "Iteration Time: 11.54 sec\n"
          ]
        },
        {
          "output_type": "stream",
          "name": "stderr",
          "text": [
            "100%|██████████| 20/20 [00:13<00:00,  1.53it/s]\n"
          ]
        },
        {
          "output_type": "stream",
          "name": "stdout",
          "text": [
            "Iteration Time: 13.05 sec\n"
          ]
        },
        {
          "output_type": "stream",
          "name": "stderr",
          "text": [
            "100%|██████████| 20/20 [00:12<00:00,  1.57it/s]\n"
          ]
        },
        {
          "output_type": "stream",
          "name": "stdout",
          "text": [
            "Iteration Time: 12.71 sec\n"
          ]
        },
        {
          "output_type": "stream",
          "name": "stderr",
          "text": [
            "100%|██████████| 20/20 [00:12<00:00,  1.66it/s]\n"
          ]
        },
        {
          "output_type": "stream",
          "name": "stdout",
          "text": [
            "Iteration Time: 12.03 sec\n"
          ]
        },
        {
          "output_type": "stream",
          "name": "stderr",
          "text": [
            "100%|██████████| 20/20 [00:21<00:00,  1.08s/it]\n"
          ]
        },
        {
          "output_type": "stream",
          "name": "stdout",
          "text": [
            "Iteration Time: 21.58 sec\n"
          ]
        },
        {
          "output_type": "stream",
          "name": "stderr",
          "text": [
            "100%|██████████| 20/20 [00:28<00:00,  1.44s/it]\n"
          ]
        },
        {
          "output_type": "stream",
          "name": "stdout",
          "text": [
            "Iteration Time: 28.79 sec\n"
          ]
        },
        {
          "output_type": "stream",
          "name": "stderr",
          "text": [
            "100%|██████████| 20/20 [00:29<00:00,  1.48s/it]\n"
          ]
        },
        {
          "output_type": "stream",
          "name": "stdout",
          "text": [
            "Iteration Time: 29.70 sec\n"
          ]
        },
        {
          "output_type": "stream",
          "name": "stderr",
          "text": [
            "100%|██████████| 20/20 [00:28<00:00,  1.43s/it]\n"
          ]
        },
        {
          "output_type": "stream",
          "name": "stdout",
          "text": [
            "Iteration Time: 28.68 sec\n"
          ]
        },
        {
          "output_type": "stream",
          "name": "stderr",
          "text": [
            "100%|██████████| 20/20 [00:23<00:00,  1.20s/it]\n"
          ]
        },
        {
          "output_type": "stream",
          "name": "stdout",
          "text": [
            "Iteration Time: 24.00 sec\n"
          ]
        },
        {
          "output_type": "stream",
          "name": "stderr",
          "text": [
            "100%|██████████| 20/20 [00:27<00:00,  1.38s/it]\n"
          ]
        },
        {
          "output_type": "stream",
          "name": "stdout",
          "text": [
            "Iteration Time: 27.54 sec\n"
          ]
        },
        {
          "output_type": "stream",
          "name": "stderr",
          "text": [
            "100%|██████████| 20/20 [00:38<00:00,  1.91s/it]\n"
          ]
        },
        {
          "output_type": "stream",
          "name": "stdout",
          "text": [
            "Iteration Time: 38.23 sec\n"
          ]
        },
        {
          "output_type": "stream",
          "name": "stderr",
          "text": [
            "100%|██████████| 20/20 [00:48<00:00,  2.44s/it]\n"
          ]
        },
        {
          "output_type": "stream",
          "name": "stdout",
          "text": [
            "Iteration Time: 48.79 sec\n"
          ]
        },
        {
          "output_type": "stream",
          "name": "stderr",
          "text": [
            "100%|██████████| 20/20 [00:51<00:00,  2.56s/it]\n"
          ]
        },
        {
          "output_type": "stream",
          "name": "stdout",
          "text": [
            "Iteration Time: 51.16 sec\n"
          ]
        },
        {
          "output_type": "stream",
          "name": "stderr",
          "text": [
            "100%|██████████| 20/20 [00:50<00:00,  2.54s/it]\n"
          ]
        },
        {
          "output_type": "stream",
          "name": "stdout",
          "text": [
            "Iteration Time: 50.88 sec\n"
          ]
        },
        {
          "output_type": "stream",
          "name": "stderr",
          "text": [
            "100%|██████████| 20/20 [00:47<00:00,  2.37s/it]\n"
          ]
        },
        {
          "output_type": "stream",
          "name": "stdout",
          "text": [
            "Iteration Time: 47.48 sec\n"
          ]
        },
        {
          "output_type": "stream",
          "name": "stderr",
          "text": [
            "100%|██████████| 20/20 [00:47<00:00,  2.39s/it]\n"
          ]
        },
        {
          "output_type": "stream",
          "name": "stdout",
          "text": [
            "Iteration Time: 47.88 sec\n"
          ]
        },
        {
          "output_type": "stream",
          "name": "stderr",
          "text": [
            "100%|██████████| 20/20 [01:00<00:00,  3.01s/it]\n"
          ]
        },
        {
          "output_type": "stream",
          "name": "stdout",
          "text": [
            "Iteration Time: 60.28 sec\n"
          ]
        },
        {
          "output_type": "stream",
          "name": "stderr",
          "text": [
            "100%|██████████| 20/20 [01:14<00:00,  3.71s/it]\n"
          ]
        },
        {
          "output_type": "stream",
          "name": "stdout",
          "text": [
            "Iteration Time: 74.22 sec\n"
          ]
        },
        {
          "output_type": "stream",
          "name": "stderr",
          "text": [
            "100%|██████████| 20/20 [01:18<00:00,  3.93s/it]\n"
          ]
        },
        {
          "output_type": "stream",
          "name": "stdout",
          "text": [
            "Iteration Time: 78.59 sec\n"
          ]
        },
        {
          "output_type": "stream",
          "name": "stderr",
          "text": [
            "100%|██████████| 20/20 [01:19<00:00,  3.95s/it]\n"
          ]
        },
        {
          "output_type": "stream",
          "name": "stdout",
          "text": [
            "Iteration Time: 79.10 sec\n"
          ]
        },
        {
          "output_type": "stream",
          "name": "stderr",
          "text": [
            "100%|██████████| 20/20 [01:21<00:00,  4.10s/it]\n"
          ]
        },
        {
          "output_type": "stream",
          "name": "stdout",
          "text": [
            "Iteration Time: 82.00 sec\n"
          ]
        },
        {
          "output_type": "stream",
          "name": "stderr",
          "text": [
            "100%|██████████| 20/20 [01:13<00:00,  3.67s/it]\n"
          ]
        },
        {
          "output_type": "stream",
          "name": "stdout",
          "text": [
            "Iteration Time: 73.36 sec\n"
          ]
        },
        {
          "output_type": "stream",
          "name": "stderr",
          "text": [
            "100%|██████████| 20/20 [01:26<00:00,  4.34s/it]\n"
          ]
        },
        {
          "output_type": "stream",
          "name": "stdout",
          "text": [
            "Iteration Time: 86.83 sec\n"
          ]
        },
        {
          "output_type": "stream",
          "name": "stderr",
          "text": [
            "100%|██████████| 20/20 [01:53<00:00,  5.69s/it]\n"
          ]
        },
        {
          "output_type": "stream",
          "name": "stdout",
          "text": [
            "Iteration Time: 113.81 sec\n"
          ]
        },
        {
          "output_type": "stream",
          "name": "stderr",
          "text": [
            "100%|██████████| 20/20 [01:58<00:00,  5.91s/it]\n"
          ]
        },
        {
          "output_type": "stream",
          "name": "stdout",
          "text": [
            "Iteration Time: 118.14 sec\n"
          ]
        },
        {
          "output_type": "stream",
          "name": "stderr",
          "text": [
            "100%|██████████| 20/20 [01:49<00:00,  5.50s/it]\n"
          ]
        },
        {
          "output_type": "stream",
          "name": "stdout",
          "text": [
            "Iteration Time: 109.94 sec\n"
          ]
        },
        {
          "output_type": "stream",
          "name": "stderr",
          "text": [
            "100%|██████████| 20/20 [01:58<00:00,  5.91s/it]\n"
          ]
        },
        {
          "output_type": "stream",
          "name": "stdout",
          "text": [
            "Iteration Time: 118.16 sec\n"
          ]
        },
        {
          "output_type": "stream",
          "name": "stderr",
          "text": [
            "100%|██████████| 20/20 [01:59<00:00,  5.98s/it]\n"
          ]
        },
        {
          "output_type": "stream",
          "name": "stdout",
          "text": [
            "Iteration Time: 119.57 sec\n"
          ]
        },
        {
          "output_type": "stream",
          "name": "stderr",
          "text": [
            "100%|██████████| 20/20 [01:58<00:00,  5.94s/it]\n"
          ]
        },
        {
          "output_type": "stream",
          "name": "stdout",
          "text": [
            "Iteration Time: 118.89 sec\n"
          ]
        },
        {
          "output_type": "stream",
          "name": "stderr",
          "text": [
            "100%|██████████| 20/20 [03:15<00:00,  9.76s/it]\n"
          ]
        },
        {
          "output_type": "stream",
          "name": "stdout",
          "text": [
            "Iteration Time: 195.12 sec\n"
          ]
        },
        {
          "output_type": "stream",
          "name": "stderr",
          "text": [
            "100%|██████████| 20/20 [02:35<00:00,  7.79s/it]\n"
          ]
        },
        {
          "output_type": "stream",
          "name": "stdout",
          "text": [
            "Iteration Time: 155.77 sec\n"
          ]
        },
        {
          "output_type": "stream",
          "name": "stderr",
          "text": [
            "100%|██████████| 20/20 [02:39<00:00,  8.00s/it]\n"
          ]
        },
        {
          "output_type": "stream",
          "name": "stdout",
          "text": [
            "Iteration Time: 159.94 sec\n"
          ]
        },
        {
          "output_type": "stream",
          "name": "stderr",
          "text": [
            "100%|██████████| 20/20 [02:34<00:00,  7.73s/it]\n"
          ]
        },
        {
          "output_type": "stream",
          "name": "stdout",
          "text": [
            "Iteration Time: 154.68 sec\n"
          ]
        },
        {
          "output_type": "stream",
          "name": "stderr",
          "text": [
            "100%|██████████| 20/20 [02:34<00:00,  7.73s/it]\n"
          ]
        },
        {
          "output_type": "stream",
          "name": "stdout",
          "text": [
            "Iteration Time: 154.57 sec\n"
          ]
        },
        {
          "output_type": "stream",
          "name": "stderr",
          "text": [
            "100%|██████████| 20/20 [02:32<00:00,  7.61s/it]\n"
          ]
        },
        {
          "output_type": "stream",
          "name": "stdout",
          "text": [
            "Iteration Time: 152.17 sec\n"
          ]
        },
        {
          "output_type": "stream",
          "name": "stderr",
          "text": [
            "100%|██████████| 20/20 [03:19<00:00,  9.96s/it]\n"
          ]
        },
        {
          "output_type": "stream",
          "name": "stdout",
          "text": [
            "Iteration Time: 199.30 sec\n"
          ]
        },
        {
          "output_type": "stream",
          "name": "stderr",
          "text": [
            "100%|██████████| 20/20 [03:14<00:00,  9.71s/it]\n"
          ]
        },
        {
          "output_type": "stream",
          "name": "stdout",
          "text": [
            "Iteration Time: 194.13 sec\n"
          ]
        },
        {
          "output_type": "stream",
          "name": "stderr",
          "text": [
            "100%|██████████| 20/20 [03:23<00:00, 10.16s/it]\n"
          ]
        },
        {
          "output_type": "stream",
          "name": "stdout",
          "text": [
            "Iteration Time: 203.28 sec\n"
          ]
        },
        {
          "output_type": "stream",
          "name": "stderr",
          "text": [
            "100%|██████████| 20/20 [03:23<00:00, 10.20s/it]\n"
          ]
        },
        {
          "output_type": "stream",
          "name": "stdout",
          "text": [
            "Iteration Time: 203.99 sec\n"
          ]
        },
        {
          "output_type": "stream",
          "name": "stderr",
          "text": [
            "100%|██████████| 20/20 [03:18<00:00,  9.92s/it]"
          ]
        },
        {
          "output_type": "stream",
          "name": "stdout",
          "text": [
            "Iteration Time: 198.45 sec\n",
            "\n",
            "Total Execution Time: 15098.39 sec\n"
          ]
        },
        {
          "output_type": "stream",
          "name": "stderr",
          "text": [
            "\n"
          ]
        }
      ],
      "source": [
        "time_learn_dict = {}\n",
        "accuracies_train = {}\n",
        "accuracies_test = {}\n",
        "\n",
        "start_time = time.time()\n",
        "\n",
        "for vr in voting_rules:\n",
        "  time_learn_dict[vr] = {}\n",
        "  accuracies_train[vr] = {}\n",
        "  accuracies_test[vr] = {}\n",
        "\n",
        "  for leaf in leafs_num:\n",
        "    time_learn_dict[vr][leaf] = {}\n",
        "    accuracies_train[vr][leaf] = {}\n",
        "    accuracies_test[vr][leaf] = {}\n",
        "\n",
        "    for typ in types:\n",
        "      iteration_start = time.time()\n",
        "\n",
        "      tree = trees[leaf][typ][0]\n",
        "      root = trees[leaf][typ][1]\n",
        "      leaves = trees[leaf][typ][2]\n",
        "\n",
        "      leaves_assignment = learn_tree(root, leaves, alts_idx, dict_tour_win[vr])\n",
        "\n",
        "      for leaf1, leaf2 in zip(leaves, leaves_assignment): # what actually changes the values of the leaves\n",
        "      # (who they represent!)\n",
        "        if leaf1.id == leaf2.id:\n",
        "          leaf1.value = leaf2.value\n",
        "\n",
        "      iteration_end = time.time()\n",
        "      iteration_time = iteration_end - iteration_start\n",
        "\n",
        "      time_learn_dict[vr][leaf][typ] = iteration_time\n",
        "      accuracies_train[vr][leaf][typ] = check_accuracy(root, leaves, alts_idx, dict_tour_win[vr]) / len(dict_tour_win[vr])\n",
        "      accuracies_test[vr][leaf][typ] = check_accuracy(root, leaves, alts_idx, dict_tour_win_test[vr]) / len(dict_tour_win_test[vr])\n",
        "\n",
        "      print(f'Iteration Time: {iteration_time:.2f} sec')\n",
        "\n",
        "end_time = time.time()  # End timing the whole process\n",
        "total_time = end_time - start_time\n",
        "print(f\"\\nTotal Execution Time: {total_time:.2f} sec\")"
      ]
    },
    {
      "cell_type": "markdown",
      "source": [
        "After the previous running, the main part of the implementation, we are able to show and discuss the meaned accuracies found depending on the number of leaves used to represent each of the voting rules."
      ],
      "metadata": {
        "id": "-1pghE5UNSuZ"
      }
    },
    {
      "cell_type": "code",
      "execution_count": null,
      "metadata": {
        "colab": {
          "base_uri": "https://localhost:8080/",
          "height": 1000
        },
        "id": "IdTRkWKs3xEM",
        "outputId": "f2b13509-6553-4de0-81ee-d7f50af5e7d7"
      },
      "outputs": [
        {
          "output_type": "stream",
          "name": "stderr",
          "text": [
            "<ipython-input-19-ad428f81cb70>:18: MatplotlibDeprecationWarning: The get_cmap function was deprecated in Matplotlib 3.7 and will be removed in 3.11. Use ``matplotlib.colormaps[name]`` or ``matplotlib.colormaps.get_cmap()`` or ``pyplot.get_cmap()`` instead.\n",
            "  cmap = cm.get_cmap(\"viridis\", len(order_bars))\n",
            "<ipython-input-19-ad428f81cb70>:18: MatplotlibDeprecationWarning: The get_cmap function was deprecated in Matplotlib 3.7 and will be removed in 3.11. Use ``matplotlib.colormaps[name]`` or ``matplotlib.colormaps.get_cmap()`` or ``pyplot.get_cmap()`` instead.\n",
            "  cmap = cm.get_cmap(\"viridis\", len(order_bars))\n"
          ]
        },
        {
          "output_type": "display_data",
          "data": {
            "text/plain": [
              "<Figure size 1500x1200 with 2 Axes>"
            ],
            "image/png": "[encoded data removed]"
          },
          "metadata": {}
        }
      ],
      "source": [
        "def plot_accuracies_bar(accuracies, train=False, ax=None):\n",
        "    order_bars = [\"borda\", \"plurality\", \"copland\", \"irv\"]\n",
        "\n",
        "    data = []\n",
        "    for vr in accuracies:\n",
        "        for leaf in accuracies[vr]:\n",
        "            mean_acc = np.mean(list(accuracies[vr][leaf].values()))\n",
        "            data.append([vr, leaf, mean_acc])\n",
        "\n",
        "    df = pd.DataFrame(data, columns=[\"vr\", \"leaf\", \"accuracy\"])\n",
        "\n",
        "    df_pivot = df.pivot(index=\"leaf\", columns=\"vr\", values=\"accuracy\")\n",
        "    df_pivot = df_pivot.reindex(columns=order_bars, fill_value=np.nan)\n",
        "\n",
        "    cmap = cm.get_cmap(\"viridis\", len(order_bars))\n",
        "    colors = [cmap(i) for i in range(len(order_bars))]\n",
        "\n",
        "    df_pivot.plot(kind=\"bar\", ax=ax, width=0.7, zorder=3, color=colors)\n",
        "\n",
        "    ax.set_xlabel(\"Number of Leaves\")\n",
        "    ax.set_ylabel(\"Mean Accuracy - Train\" if train else \"Mean Accuracy - Test\")\n",
        "    ax.set_title(\"Mean Accuracy vs. Number of Leaves - Train\" if train else \"Mean Accuracy vs. Number of Leaves - Test\")\n",
        "\n",
        "    ax.set_xticklabels(ax.get_xticklabels(), rotation=0)\n",
        "    ax.legend(title=\"VR\", loc=\"upper right\", bbox_to_anchor=(1.05, 1.06))\n",
        "    ax.grid(axis=\"y\", linestyle=\"-\", alpha=0.5, zorder=0)\n",
        "    ax.set_ylim(0.4, 1)\n",
        "\n",
        "fig, axes = plt.subplots(2, 1, figsize=(15, 12))\n",
        "\n",
        "plot_accuracies_bar(accuracies_train, train=True, ax=axes[0])\n",
        "plot_accuracies_bar(accuracies_test, train=False, ax=axes[1])\n",
        "\n",
        "plt.tight_layout()\n",
        "plt.show()\n"
      ]
    },
    {
      "cell_type": "code",
      "source": [
        "def plot_accuracies_line(accuracies, train=False, ax=None):\n",
        "    for vr in accuracies:\n",
        "        x_values = sorted(accuracies[vr].keys())\n",
        "        mean_accuracies = [np.mean(list(accuracies[vr][leaf].values())) for leaf in x_values]\n",
        "        ax.plot(x_values, mean_accuracies, marker='o',  linestyle='dotted', markersize=6, label=vr)\n",
        "\n",
        "    ax.set_xlabel(\"Number of Leaves\")\n",
        "    if train:\n",
        "        ax.set_ylabel(\"Mean Accuracy - Train\")\n",
        "        ax.set_title(\"Mean Accuracy vs. Number of Leaves - Train\")\n",
        "    else:\n",
        "        ax.set_ylabel(\"Mean Accuracy - Test\")\n",
        "        ax.set_title(\"Mean Accuracy vs. Number of Leaves - Test\")\n",
        "\n",
        "    ax.set_xticks(sorted(accuracies[next(iter(accuracies))].keys()))\n",
        "    ax.legend()\n",
        "    ax.grid(True)\n",
        "\n",
        "fig, axes = plt.subplots(2, 1, figsize=(15, 10))  # 2 rows, 1 column\n",
        "\n",
        "plot_accuracies_line(accuracies_train, train=True, ax=axes[0])\n",
        "plot_accuracies_line(accuracies_test, train=False, ax=axes[1])\n",
        "\n",
        "plt.tight_layout()\n",
        "\n",
        "plt.show()"
      ],
      "metadata": {
        "colab": {
          "base_uri": "https://localhost:8080/",
          "height": 785
        },
        "id": "YE28uvSyp3fU",
        "outputId": "c72c08c2-53e1-4500-8126-97228a746803"
      },
      "execution_count": null,
      "outputs": [
        {
          "output_type": "display_data",
          "data": {
            "text/plain": [
              "<Figure size 1500x1000 with 2 Axes>"
            ],
            "image/png": "[encoded data removed]"
          },
          "metadata": {}
        }
      ]
    },
    {
      "cell_type": "markdown",
      "source": [
        "Discussion on the meaned accuracies results above:"
      ],
      "metadata": {
        "id": "yrBsX5PNODq8"
      }
    },
    {
      "cell_type": "code",
      "source": [
        "def plot_time_learn_dict_bar(time_learn_dict):\n",
        "    data = []\n",
        "    for vr in time_learn_dict:\n",
        "        for leaf in time_learn_dict[vr]:\n",
        "            mean_acc = np.mean(list(time_learn_dict[vr][leaf].values()))\n",
        "            data.append([vr, leaf, mean_acc])\n",
        "\n",
        "    df = pd.DataFrame(data, columns=[\"vr\", \"leaf\", \"Time (sec)\"])\n",
        "\n",
        "    df_pivot = df.pivot(index=\"leaf\", columns=\"vr\", values=\"Time (sec)\")\n",
        "\n",
        "    ax = df_pivot.plot(kind=\"bar\", figsize=(10, 6), colormap=\"viridis\", width=0.8)\n",
        "\n",
        "    ax.set_xlabel(\"Number of Leaves\")\n",
        "    ax.set_ylabel(\"Mean Time (sec)\")\n",
        "    ax.set_title(\"Mean Time (sec) vs. Number of Leaves\")\n",
        "\n",
        "    ax.set_xticklabels(ax.get_xticklabels(), rotation=0)\n",
        "    ax.legend(title=\"VR\")\n",
        "    ax.grid(axis=\"y\", linestyle=\"--\", alpha=0.7)\n",
        "\n",
        "plot_time_learn_dict_bar(time_learn_dict)\n",
        "\n",
        "plt.tight_layout()\n",
        "plt.show()"
      ],
      "metadata": {
        "colab": {
          "base_uri": "https://localhost:8080/",
          "height": 607
        },
        "id": "EIGAamF3wH1o",
        "outputId": "42e7caea-0617-4d5d-c5d1-5fd2c3563d7b"
      },
      "execution_count": null,
      "outputs": [
        {
          "output_type": "display_data",
          "data": {
            "text/plain": [
              "<Figure size 1000x600 with 1 Axes>"
            ],
            "image/png": "[encoded data removed]"
          },
          "metadata": {}
        }
      ]
    },
    {
      "cell_type": "code",
      "source": [
        "def plot_time_learn_dict_line(time_learn_dict, ax=None):\n",
        "    if ax is None:\n",
        "        fig, ax = plt.subplots(figsize=(7, 5))\n",
        "\n",
        "    cmap = cm.get_cmap('viridis', len(time_learn_dict))\n",
        "    colors = {vr: cmap(i) for i, vr in enumerate(time_learn_dict)}\n",
        "\n",
        "    for vr in time_learn_dict:\n",
        "        x_values = sorted(time_learn_dict[vr].keys())\n",
        "        mean_times = [np.mean(list(time_learn_dict[vr][leaf].values())) for leaf in x_values]\n",
        "\n",
        "        ax.plot(x_values, mean_times, marker='o', linestyle='dotted',\n",
        "                markersize=6, label=vr, color=colors[vr])\n",
        "\n",
        "    ax.set_xlabel(\"Number of Leaves\")\n",
        "    ax.set_ylabel(\"Mean Time (sec)\")\n",
        "    ax.set_title(\"Mean Time (sec) vs. Number of Leaves\")\n",
        "\n",
        "    ax.set_xticks(sorted(time_learn_dict[next(iter(time_learn_dict))].keys()))\n",
        "    ax.legend()\n",
        "    ax.grid(True)\n",
        "\n",
        "fig, ax = plt.subplots(figsize=(10, 6))\n",
        "\n",
        "plot_time_learn_dict_line(time_learn_dict, ax=ax)\n",
        "\n",
        "plt.tight_layout()\n",
        "plt.show()"
      ],
      "metadata": {
        "id": "3e08-udwyHU_",
        "colab": {
          "base_uri": "https://localhost:8080/",
          "height": 662
        },
        "outputId": "1d9838f4-f3ed-4545-8a8a-cb8a080d36c8"
      },
      "execution_count": null,
      "outputs": [
        {
          "output_type": "stream",
          "name": "stderr",
          "text": [
            "<ipython-input-22-a623214e99e9>:7: MatplotlibDeprecationWarning: The get_cmap function was deprecated in Matplotlib 3.7 and will be removed in 3.11. Use ``matplotlib.colormaps[name]`` or ``matplotlib.colormaps.get_cmap()`` or ``pyplot.get_cmap()`` instead.\n",
            "  cmap = cm.get_cmap('viridis', len(time_learn_dict))\n"
          ]
        },
        {
          "output_type": "display_data",
          "data": {
            "text/plain": [
              "<Figure size 1000x600 with 1 Axes>"
            ],
            "image/png": "[encoded data removed]"
          },
          "metadata": {}
        }
      ]
    },
    {
      "cell_type": "markdown",
      "source": [
        "As can be observd above, the running time of finding a good assignment for the leaves is exponential on the number of leaves. Similar to the discussed on the original paper."
      ],
      "metadata": {
        "id": "Tf4DkP0-OYKh"
      }
    },
    {
      "cell_type": "markdown",
      "source": [
        "# Comparison between expected figure and empirical figure"
      ],
      "metadata": {
        "id": "x0nF23aI6XI3"
      }
    },
    {
      "cell_type": "code",
      "source": [
        "img1 = mpimg.imread('good_expected_choices.jpg')\n",
        "\n",
        "fig, axes = plt.subplots(1, 2, figsize=(12, 4))\n",
        "\n",
        "axes[0].imshow(img1)\n",
        "axes[0].set_title(\"Expected Figure\")\n",
        "axes[0].axis('off')\n",
        "\n",
        "plot_accuracies_bar(accuracies_test, train= False, ax=axes[1])\n",
        "axes[1].set_title(\"Empirical Figure\")\n",
        "\n",
        "plt.tight_layout()\n",
        "plt.show()"
      ],
      "metadata": {
        "colab": {
          "base_uri": "https://localhost:8080/",
          "height": 449
        },
        "id": "s7BazHKY8mwl",
        "outputId": "b8b7941b-5992-4319-9d06-dfaa70a56acd"
      },
      "execution_count": null,
      "outputs": [
        {
          "output_type": "stream",
          "name": "stderr",
          "text": [
            "<ipython-input-19-ad428f81cb70>:18: MatplotlibDeprecationWarning: The get_cmap function was deprecated in Matplotlib 3.7 and will be removed in 3.11. Use ``matplotlib.colormaps[name]`` or ``matplotlib.colormaps.get_cmap()`` or ``pyplot.get_cmap()`` instead.\n",
            "  cmap = cm.get_cmap(\"viridis\", len(order_bars))\n"
          ]
        },
        {
          "output_type": "display_data",
          "data": {
            "text/plain": [
              "<Figure size 1200x400 with 2 Axes>"
            ],
            "image/png": "[encoded data removed]"
          },
          "metadata": {}
        }
      ]
    },
    {
      "cell_type": "markdown",
      "source": [
        "Above, we see a side-by-side comparison of the expected figure (right) and the empirical results of the meaned accuracies (left).\n",
        "\n",
        "Important Note: The scales on both graphs differ. This adjustment allows us to more clearly observe trends, particularly in the line graph.\n",
        "\n",
        "Initially, we expected the distribution of meaned accuracies to resemble a normal distribution centered around the number of alternatives. This expectation stems from the idea that having too few or too many leaves could lead to underfitting or overfitting the data.\n",
        "\n",
        "Based on the observed accuracy graph, we can conclude that mean accuracy tends to be higher when the number of leaves is closer to the number of alternatives. However, the difference is not as pronounced as initially anticipated."
      ],
      "metadata": {
        "id": "bqfUFoFe6cd4"
      }
    },
    {
      "cell_type": "code",
      "source": [],
      "metadata": {
        "id": "1uyjOGFBrdVT"
      },
      "execution_count": null,
      "outputs": []
    }
  ],
  "metadata": {
    "colab": {
      "provenance": [],
      "include_colab_link": true
    },
    "kernelspec": {
      "display_name": "Python 3",
      "name": "python3"
    },
    "language_info": {
      "name": "python"
    }
  },
  "nbformat": 4,
  "nbformat_minor": 0
}